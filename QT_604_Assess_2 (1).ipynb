{
 "cells": [
  {
   "cell_type": "markdown",
   "metadata": {
    "id": "t3sYU47oZGy5"
   },
   "source": [
    "# Prerequisites"
   ]
  },
  {
   "cell_type": "code",
   "execution_count": 43,
   "metadata": {
    "colab": {
     "base_uri": "https://localhost:8080/"
    },
    "id": "C0nLOeCHOKwt",
    "outputId": "122a84b2-e64a-4f6f-89af-5ee067345b2c"
   },
   "outputs": [
    {
     "name": "stdout",
     "output_type": "stream",
     "text": [
      "Requirement already satisfied: qiskit in c:\\users\\ashish\\appdata\\local\\programs\\python\\python310\\lib\\site-packages (0.39.4)"
     ]
    },
    {
     "name": "stderr",
     "output_type": "stream",
     "text": [
      "WARNING: Ignoring invalid distribution -rotobuf (c:\\users\\ashish\\appdata\\local\\programs\\python\\python310\\lib\\site-packages)\n",
      "WARNING: Ignoring invalid distribution -rotobuf (c:\\users\\ashish\\appdata\\local\\programs\\python\\python310\\lib\\site-packages)\n",
      "WARNING: Ignoring invalid distribution -rotobuf (c:\\users\\ashish\\appdata\\local\\programs\\python\\python310\\lib\\site-packages)\n",
      "WARNING: Ignoring invalid distribution -rotobuf (c:\\users\\ashish\\appdata\\local\\programs\\python\\python310\\lib\\site-packages)\n",
      "WARNING: Ignoring invalid distribution -rotobuf (c:\\users\\ashish\\appdata\\local\\programs\\python\\python310\\lib\\site-packages)\n",
      "WARNING: Ignoring invalid distribution -rotobuf (c:\\users\\ashish\\appdata\\local\\programs\\python\\python310\\lib\\site-packages)\n"
     ]
    },
    {
     "name": "stdout",
     "output_type": "stream",
     "text": [
      "\n",
      "Requirement already satisfied: qiskit-terra==0.22.3 in c:\\users\\ashish\\appdata\\local\\programs\\python\\python310\\lib\\site-packages (from qiskit) (0.22.3)\n",
      "Requirement already satisfied: qiskit-aer==0.11.2 in c:\\users\\ashish\\appdata\\local\\programs\\python\\python310\\lib\\site-packages (from qiskit) (0.11.2)\n",
      "Requirement already satisfied: qiskit-ibmq-provider==0.19.2 in c:\\users\\ashish\\appdata\\local\\programs\\python\\python310\\lib\\site-packages (from qiskit) (0.19.2)\n",
      "Requirement already satisfied: scipy>=1.0 in c:\\users\\ashish\\appdata\\local\\programs\\python\\python310\\lib\\site-packages (from qiskit-aer==0.11.2->qiskit) (1.9.3)\n",
      "Requirement already satisfied: numpy>=1.16.3 in c:\\users\\ashish\\appdata\\local\\programs\\python\\python310\\lib\\site-packages (from qiskit-aer==0.11.2->qiskit) (1.23.1)\n",
      "Requirement already satisfied: websocket-client>=1.0.1 in c:\\users\\ashish\\appdata\\local\\programs\\python\\python310\\lib\\site-packages (from qiskit-ibmq-provider==0.19.2->qiskit) (1.4.2)\n",
      "Requirement already satisfied: websockets>=10.0 in c:\\users\\ashish\\appdata\\local\\programs\\python\\python310\\lib\\site-packages (from qiskit-ibmq-provider==0.19.2->qiskit) (10.4)\n",
      "Requirement already satisfied: python-dateutil>=2.8.0 in c:\\users\\ashish\\appdata\\local\\programs\\python\\python310\\lib\\site-packages (from qiskit-ibmq-provider==0.19.2->qiskit) (2.8.2)\n",
      "Requirement already satisfied: requests>=2.19 in c:\\users\\ashish\\appdata\\local\\programs\\python\\python310\\lib\\site-packages (from qiskit-ibmq-provider==0.19.2->qiskit) (2.28.1)\n",
      "Requirement already satisfied: requests-ntlm>=1.1.0 in c:\\users\\ashish\\appdata\\local\\programs\\python\\python310\\lib\\site-packages (from qiskit-ibmq-provider==0.19.2->qiskit) (1.1.0)\n",
      "Requirement already satisfied: urllib3>=1.21.1 in c:\\users\\ashish\\appdata\\local\\programs\\python\\python310\\lib\\site-packages (from qiskit-ibmq-provider==0.19.2->qiskit) (1.26.13)\n",
      "Requirement already satisfied: retworkx>=0.11.0 in c:\\users\\ashish\\appdata\\local\\programs\\python\\python310\\lib\\site-packages (from qiskit-terra==0.22.3->qiskit) (0.12.1)\n",
      "Requirement already satisfied: psutil>=5 in c:\\users\\ashish\\appdata\\local\\programs\\python\\python310\\lib\\site-packages (from qiskit-terra==0.22.3->qiskit) (5.9.1)\n",
      "Requirement already satisfied: ply>=3.10 in c:\\users\\ashish\\appdata\\local\\programs\\python\\python310\\lib\\site-packages (from qiskit-terra==0.22.3->qiskit) (3.11)\n",
      "Requirement already satisfied: dill>=0.3 in c:\\users\\ashish\\appdata\\local\\programs\\python\\python310\\lib\\site-packages (from qiskit-terra==0.22.3->qiskit) (0.3.6)\n",
      "Requirement already satisfied: sympy>=1.3 in c:\\users\\ashish\\appdata\\local\\programs\\python\\python310\\lib\\site-packages (from qiskit-terra==0.22.3->qiskit) (1.10.1)\n",
      "Requirement already satisfied: stevedore>=3.0.0 in c:\\users\\ashish\\appdata\\local\\programs\\python\\python310\\lib\\site-packages (from qiskit-terra==0.22.3->qiskit) (4.1.1)\n",
      "Requirement already satisfied: tweedledum<2.0,>=1.1 in c:\\users\\ashish\\appdata\\local\\programs\\python\\python310\\lib\\site-packages (from qiskit-terra==0.22.3->qiskit) (1.1.1)\n",
      "Requirement already satisfied: six>=1.5 in c:\\users\\ashish\\appdata\\local\\programs\\python\\python310\\lib\\site-packages (from python-dateutil>=2.8.0->qiskit-ibmq-provider==0.19.2->qiskit) (1.16.0)\n",
      "Requirement already satisfied: idna<4,>=2.5 in c:\\users\\ashish\\appdata\\local\\programs\\python\\python310\\lib\\site-packages (from requests>=2.19->qiskit-ibmq-provider==0.19.2->qiskit) (3.4)\n",
      "Requirement already satisfied: certifi>=2017.4.17 in c:\\users\\ashish\\appdata\\local\\programs\\python\\python310\\lib\\site-packages (from requests>=2.19->qiskit-ibmq-provider==0.19.2->qiskit) (2022.12.7)\n",
      "Requirement already satisfied: charset-normalizer<3,>=2 in c:\\users\\ashish\\appdata\\local\\programs\\python\\python310\\lib\\site-packages (from requests>=2.19->qiskit-ibmq-provider==0.19.2->qiskit) (2.1.1)\n",
      "Requirement already satisfied: cryptography>=1.3 in c:\\users\\ashish\\appdata\\local\\programs\\python\\python310\\lib\\site-packages (from requests-ntlm>=1.1.0->qiskit-ibmq-provider==0.19.2->qiskit) (38.0.4)\n",
      "Requirement already satisfied: ntlm-auth>=1.0.2 in c:\\users\\ashish\\appdata\\local\\programs\\python\\python310\\lib\\site-packages (from requests-ntlm>=1.1.0->qiskit-ibmq-provider==0.19.2->qiskit) (1.5.0)\n",
      "Requirement already satisfied: rustworkx==0.12.1 in c:\\users\\ashish\\appdata\\local\\programs\\python\\python310\\lib\\site-packages (from retworkx>=0.11.0->qiskit-terra==0.22.3->qiskit) (0.12.1)\n",
      "Requirement already satisfied: pbr!=2.1.0,>=2.0.0 in c:\\users\\ashish\\appdata\\local\\programs\\python\\python310\\lib\\site-packages (from stevedore>=3.0.0->qiskit-terra==0.22.3->qiskit) (5.11.0)\n",
      "Requirement already satisfied: mpmath>=0.19 in c:\\users\\ashish\\appdata\\local\\programs\\python\\python310\\lib\\site-packages (from sympy>=1.3->qiskit-terra==0.22.3->qiskit) (1.2.1)\n",
      "Requirement already satisfied: cffi>=1.12 in c:\\users\\ashish\\appdata\\local\\programs\\python\\python310\\lib\\site-packages (from cryptography>=1.3->requests-ntlm>=1.1.0->qiskit-ibmq-provider==0.19.2->qiskit) (1.15.1)\n",
      "Requirement already satisfied: pycparser in c:\\users\\ashish\\appdata\\local\\programs\\python\\python310\\lib\\site-packages (from cffi>=1.12->cryptography>=1.3->requests-ntlm>=1.1.0->qiskit-ibmq-provider==0.19.2->qiskit) (2.21)\n",
      "Requirement already satisfied: qutip in c:\\users\\ashish\\appdata\\local\\programs\\python\\python310\\lib\\site-packages (4.7.1)\n",
      "Requirement already satisfied: packaging in c:\\users\\ashish\\appdata\\local\\programs\\python\\python310\\lib\\site-packages (from qutip) (21.3)\n",
      "Requirement already satisfied: scipy>=1.0 in c:\\users\\ashish\\appdata\\local\\programs\\python\\python310\\lib\\site-packages (from qutip) (1.9.3)\n",
      "Requirement already satisfied: numpy>=1.16.6 in c:\\users\\ashish\\appdata\\local\\programs\\python\\python310\\lib\\site-packages (from qutip) (1.23.1)\n",
      "Requirement already satisfied: pyparsing!=3.0.5,>=2.0.2 in c:\\users\\ashish\\appdata\\local\\programs\\python\\python310\\lib\\site-packages (from packaging->qutip) (3.0.9)\n"
     ]
    },
    {
     "name": "stderr",
     "output_type": "stream",
     "text": [
      "WARNING: Ignoring invalid distribution -rotobuf (c:\\users\\ashish\\appdata\\local\\programs\\python\\python310\\lib\\site-packages)\n",
      "WARNING: Ignoring invalid distribution -rotobuf (c:\\users\\ashish\\appdata\\local\\programs\\python\\python310\\lib\\site-packages)\n",
      "WARNING: Ignoring invalid distribution -rotobuf (c:\\users\\ashish\\appdata\\local\\programs\\python\\python310\\lib\\site-packages)\n",
      "WARNING: Ignoring invalid distribution -rotobuf (c:\\users\\ashish\\appdata\\local\\programs\\python\\python310\\lib\\site-packages)\n",
      "WARNING: Ignoring invalid distribution -rotobuf (c:\\users\\ashish\\appdata\\local\\programs\\python\\python310\\lib\\site-packages)\n",
      "WARNING: Ignoring invalid distribution -rotobuf (c:\\users\\ashish\\appdata\\local\\programs\\python\\python310\\lib\\site-packages)\n"
     ]
    },
    {
     "name": "stdout",
     "output_type": "stream",
     "text": [
      "Requirement already satisfied: numpy in c:\\users\\ashish\\appdata\\local\\programs\\python\\python310\\lib\\site-packages (1.23.1)\n"
     ]
    },
    {
     "name": "stderr",
     "output_type": "stream",
     "text": [
      "WARNING: Ignoring invalid distribution -rotobuf (c:\\users\\ashish\\appdata\\local\\programs\\python\\python310\\lib\\site-packages)\n",
      "WARNING: Ignoring invalid distribution -rotobuf (c:\\users\\ashish\\appdata\\local\\programs\\python\\python310\\lib\\site-packages)\n",
      "WARNING: Ignoring invalid distribution -rotobuf (c:\\users\\ashish\\appdata\\local\\programs\\python\\python310\\lib\\site-packages)\n",
      "WARNING: Ignoring invalid distribution -rotobuf (c:\\users\\ashish\\appdata\\local\\programs\\python\\python310\\lib\\site-packages)\n",
      "WARNING: Ignoring invalid distribution -rotobuf (c:\\users\\ashish\\appdata\\local\\programs\\python\\python310\\lib\\site-packages)\n",
      "WARNING: Ignoring invalid distribution -rotobuf (c:\\users\\ashish\\appdata\\local\\programs\\python\\python310\\lib\\site-packages)\n"
     ]
    },
    {
     "name": "stdout",
     "output_type": "stream",
     "text": [
      "Requirement already satisfied: sqtdiat==0.0.0.3.14 in c:\\users\\ashish\\appdata\\local\\programs\\python\\python310\\lib\\site-packages (0.0.0.3.14)"
     ]
    },
    {
     "name": "stderr",
     "output_type": "stream",
     "text": [
      "WARNING: Ignoring invalid distribution -rotobuf (c:\\users\\ashish\\appdata\\local\\programs\\python\\python310\\lib\\site-packages)\n",
      "WARNING: Ignoring invalid distribution -rotobuf (c:\\users\\ashish\\appdata\\local\\programs\\python\\python310\\lib\\site-packages)\n",
      "WARNING: Ignoring invalid distribution -rotobuf (c:\\users\\ashish\\appdata\\local\\programs\\python\\python310\\lib\\site-packages)\n",
      "WARNING: Ignoring invalid distribution -rotobuf (c:\\users\\ashish\\appdata\\local\\programs\\python\\python310\\lib\\site-packages)\n",
      "WARNING: Ignoring invalid distribution -rotobuf (c:\\users\\ashish\\appdata\\local\\programs\\python\\python310\\lib\\site-packages)\n",
      "WARNING: Ignoring invalid distribution -rotobuf (c:\\users\\ashish\\appdata\\local\\programs\\python\\python310\\lib\\site-packages)\n"
     ]
    },
    {
     "name": "stdout",
     "output_type": "stream",
     "text": [
      "\n"
     ]
    }
   ],
   "source": [
    "!pip install qiskit\n",
    "!pip install qutip\n",
    "!pip install numpy\n",
    "!pip install sqtdiat==0.0.0.3.14"
   ]
  },
  {
   "cell_type": "code",
   "execution_count": 44,
   "metadata": {},
   "outputs": [],
   "source": [
    "import sqtdiat.qops as sq"
   ]
  },
  {
   "cell_type": "code",
   "execution_count": 3,
   "metadata": {
    "id": "cJaeF-9gZKSe"
   },
   "outputs": [],
   "source": [
    "import numpy as np\n",
    "import sympy as sp \n",
    "import matplotlib.pyplot as plt\n",
    "import qiskit as qt\n",
    "from qiskit.visualization import plot_bloch_vector\n",
    "import qutip as qt"
   ]
  },
  {
   "cell_type": "code",
   "execution_count": 4,
   "metadata": {
    "id": "l5EsIKgWYQUC"
   },
   "outputs": [],
   "source": [
    "def randm_dens():\n",
    "    sig_x = np.array([[0, 1], [1, 0]])\n",
    "    sig_y = np.array([[0, -1j], [1j, 0]])\n",
    "    sig_z = np.array([[1, 0], [0, -1]])\n",
    "    x, z = np.random.random() - 0.5, np.random.random() - 0.5\n",
    "    y = (-1)**(np.random.randint(2)) * np.sqrt(1 - x**2 - z**2)\n",
    "    return (np.eye(2) + x * sig_x + y * sig_y + z * sig_z) / 2"
   ]
  },
  {
   "cell_type": "markdown",
   "metadata": {
    "id": "zgfvd-GLYlDD"
   },
   "source": [
    "# 1 Normalize a statevector"
   ]
  },
  {
   "cell_type": "code",
   "execution_count": 42,
   "metadata": {
    "colab": {
     "base_uri": "https://localhost:8080/"
    },
    "id": "Nxxou_JhVgm0",
    "outputId": "eeb4af2d-5d29-4147-d9fb-d1826bc95373"
   },
   "outputs": [
    {
     "data": {
      "text/plain": [
       "array([0.21320072+0.42640143j, 0.21320072-0.85280287j])"
      ]
     },
     "execution_count": 42,
     "metadata": {},
     "output_type": "execute_result"
    }
   ],
   "source": [
    "def normalize_state_vec(state_vec):\n",
    "    if type(state_vec) != np.array:\n",
    "        state_vec = np.array(state_vec)\n",
    "    norm_fact = 0\n",
    "    for x in state_vec:\n",
    "        norm_fact += x * np.conj(x)\n",
    "    return 1 / np.sqrt(np.real(norm_fact)) * state_vec\n",
    "\n",
    "normalize_state_vec([1 + 2j, 1 - 4j])"
   ]
  },
  {
   "cell_type": "markdown",
   "metadata": {
    "id": "TQbeRlt9dY8A"
   },
   "source": [
    "# 2 Gram-Schmidt Orthonormalization  of a Basis Set"
   ]
  },
  {
   "cell_type": "code",
   "execution_count": 6,
   "metadata": {
    "colab": {
     "base_uri": "https://localhost:8080/"
    },
    "id": "Vpjm-PgFdZhZ",
    "outputId": "fe42e32d-e366-4f75-9c40-15a87c4b8504"
   },
   "outputs": [
    {
     "data": {
      "text/plain": [
       "array([[ 0.70710678,  0.70710678],\n",
       "       [-0.70710678,  0.70710678]])"
      ]
     },
     "execution_count": 6,
     "metadata": {},
     "output_type": "execute_result"
    }
   ],
   "source": [
    "def proj(v, u):\n",
    "    if type(u) or type(v) != np.array:\n",
    "        u, v = np.array(u), np.array(v)\n",
    "    return np.dot(u, v) / np.dot(u, u) * u\n",
    "\n",
    "def gram_schmidt(basis_set):\n",
    "    if type(basis_set) != np.array:\n",
    "        basis_set = np.array(basis_set)\n",
    "    u = np.ones(basis_set.shape)\n",
    "    u[0] = basis_set[0]\n",
    "    for i in range(0, basis_set.shape[0]):\n",
    "        subt = np.zeros(basis_set.shape[1])\n",
    "        for j in range(0, i):\n",
    "            subt = subt + proj(basis_set[i], u[j])\n",
    "        u[i] = basis_set[i] - subt\n",
    "        u[i] = u[i] / np.sqrt(np.dot(u[i], np.conj(u[i])))\n",
    "    return u\n",
    "\n",
    "gram_schmidt([[2, 2], [3, 5]])"
   ]
  },
  {
   "cell_type": "markdown",
   "metadata": {
    "id": "dKbfJljlYqR9"
   },
   "source": [
    "# 3 Density Matrix associated with a statevector"
   ]
  },
  {
   "cell_type": "code",
   "execution_count": 7,
   "metadata": {
    "colab": {
     "base_uri": "https://localhost:8080/"
    },
    "id": "TZpekW5OYZyZ",
    "outputId": "92967a28-6ba9-4e29-b760-e049a094b6f0"
   },
   "outputs": [
    {
     "data": {
      "text/plain": [
       "array([[0.5+0.j , 0. -0.5j],\n",
       "       [0. +0.5j, 0.5+0.j ]])"
      ]
     },
     "execution_count": 7,
     "metadata": {},
     "output_type": "execute_result"
    }
   ],
   "source": [
    "def density_mat_from_state_vec(state_vec):\n",
    "    if type(state_vec) != np.array:\n",
    "        state_vec = np.array(state_vec)\n",
    "    return np.dot(state_vec.reshape(state_vec.shape[0], 1), np.conj(state_vec.reshape(1, state_vec.shape[0])))\n",
    "\n",
    "density_mat_from_state_vec(normalize_state_vec([1, 1j]))"
   ]
  },
  {
   "cell_type": "markdown",
   "metadata": {
    "id": "2sIkkX12zBZE"
   },
   "source": [
    "# 4 Find whether given n x n matrix is associated with a quantum system."
   ]
  },
  {
   "cell_type": "code",
   "execution_count": 8,
   "metadata": {
    "colab": {
     "base_uri": "https://localhost:8080/"
    },
    "id": "m2cy6nZwzMBk",
    "outputId": "5dfe4a41-694e-41c5-cf04-2f43bb0e711f"
   },
   "outputs": [
    {
     "data": {
      "text/plain": [
       "True"
      ]
     },
     "execution_count": 8,
     "metadata": {},
     "output_type": "execute_result"
    }
   ],
   "source": [
    "def trace(sqr_mat):\n",
    "    if type(sqr_mat) != np.array:\n",
    "        sqr_mat = np.array(sqr_mat)\n",
    "    if sqr_mat.shape[0] == sqr_mat.shape[1]:\n",
    "        return np.sum([sqr_mat[i][i] for i in range(sqr_mat.shape[0])])\n",
    "    else:\n",
    "        return \"Entered matrix is not a square matrix.\"\n",
    "\n",
    "def complex_conjugate(dens_mat):\n",
    "    return np.conj(dens_mat).T\n",
    "\n",
    "def nxn_valid_quantum(sqr_mat):\n",
    "    if type(sqr_mat) != np.array:\n",
    "        sqr_mat = np.array(sqr_mat)\n",
    "    flag = True\n",
    "    if np.sum(sqr_mat == complex_conjugate(sqr_mat)) != (sqr_mat.shape[0] * sqr_mat.shape[1]): \n",
    "        raise ValueError(\"The given matrix is not Hermitian\")\n",
    "    for x in np.linalg.eigvals(sqr_mat):\n",
    "        if x < (-1 * 10**-4): flag = False; raise ValueError(\"Negative eigen values\")\n",
    "    if trace(sqr_mat) < 0.999 or trace(sqr_mat) > 1.0001: flag = False; raise ValueError(\"Trace is not equal to 1\")\n",
    "    if trace(np.dot(sqr_mat, sqr_mat)) > 1.0001: flag = False; raise ValueError(\"Trace of rho squared is greater than 1\")\n",
    "    return flag\n",
    "\n",
    "nxn_valid_quantum(density_mat_from_state_vec(normalize_state_vec([1, -1j])))"
   ]
  },
  {
   "cell_type": "code",
   "execution_count": 9,
   "metadata": {
    "colab": {
     "base_uri": "https://localhost:8080/"
    },
    "id": "xckUHUx7V0FE",
    "outputId": "0ff8215c-e088-4af5-cbd8-27f8725566e9"
   },
   "outputs": [
    {
     "data": {
      "text/plain": [
       "0.0"
      ]
     },
     "execution_count": 9,
     "metadata": {},
     "output_type": "execute_result"
    }
   ],
   "source": [
    "\n",
    "a = np.array([[1, 2j], [-2j, 4]])\n",
    "np.abs(np.sum(complex_conjugate(a) - a))"
   ]
  },
  {
   "cell_type": "code",
   "execution_count": 10,
   "metadata": {
    "colab": {
     "base_uri": "https://localhost:8080/"
    },
    "id": "CE94XXpQWC0k",
    "outputId": "21096577-4112-48dd-fefd-2cb91b2cd7e9"
   },
   "outputs": [
    {
     "data": {
      "text/plain": [
       "0"
      ]
     },
     "execution_count": 10,
     "metadata": {},
     "output_type": "execute_result"
    }
   ],
   "source": [
    "np.sum(np.array([[1, 2], [3, 4]]) - np.array([[1, 2], [3, 4]]))"
   ]
  },
  {
   "cell_type": "code",
   "execution_count": 11,
   "metadata": {
    "id": "I_Mz-EJkldKU"
   },
   "outputs": [],
   "source": [
    "nn = np.linalg.eigvals(density_mat_from_state_vec(normalize_state_vec([1, -1j])))\n",
    "for x in nn:\n",
    "    if x < (-1 * 10**-32): print(x, False)"
   ]
  },
  {
   "cell_type": "markdown",
   "metadata": {
    "id": "lWmKQC6GulD5"
   },
   "source": [
    "# 5 Find whether given density matrix is pure or mixed state."
   ]
  },
  {
   "cell_type": "code",
   "execution_count": 12,
   "metadata": {
    "colab": {
     "base_uri": "https://localhost:8080/",
     "height": 36
    },
    "id": "ysx9G-TVbdek",
    "outputId": "b757e915-bb7d-49cc-d6f9-10331ef6e053"
   },
   "outputs": [
    {
     "data": {
      "text/plain": [
       "'mixed'"
      ]
     },
     "execution_count": 12,
     "metadata": {},
     "output_type": "execute_result"
    }
   ],
   "source": [
    "def pure_or_mixed(density_mat):\n",
    "    if type(density_mat) != np.array:\n",
    "        density_mat = np.array(density_mat)\n",
    "    d_mat_sqr_trc = trace(np.dot(density_mat, density_mat))\n",
    "    if d_mat_sqr_trc > 0.999 and d_mat_sqr_trc < 1.0001:\n",
    "        return \"pure\"\n",
    "    elif (d_mat_sqr_trc < 0.999) and (d_mat_sqr_trc > 0):\n",
    "        return \"mixed\"\n",
    "    else:\n",
    "        return \"Entered density matrix is invalid.\"\n",
    "\n",
    "# pure_or_mixed(density_mat_from_state_vec(normalize_state_vec([1, 1, 1])))\n",
    "pure_or_mixed([[0.5, 0], [0, 0.5]])"
   ]
  },
  {
   "cell_type": "markdown",
   "metadata": {
    "id": "6axZtKyc2PdF"
   },
   "source": [
    "# 8 Partial Trace Operation of 2 qubit system"
   ]
  },
  {
   "cell_type": "code",
   "execution_count": 13,
   "metadata": {
    "colab": {
     "base_uri": "https://localhost:8080/"
    },
    "id": "vkLiFY4B2OZ2",
    "outputId": "c6d88e55-7aad-4cd6-d3e7-8df12c74efd7"
   },
   "outputs": [
    {
     "name": "stdout",
     "output_type": "stream",
     "text": [
      "CPU times: total: 0 ns\n",
      "Wall time: 891 µs\n"
     ]
    },
    {
     "data": {
      "text/plain": [
       "[[0.4999999999999999, 0.0], [0.0, 0.4999999999999999]]"
      ]
     },
     "execution_count": 13,
     "metadata": {},
     "output_type": "execute_result"
    }
   ],
   "source": [
    "%%time\n",
    "\n",
    "def partial_trace_2q(dens_mat, select_mat):\n",
    "    if type(dens_mat) != np.array:\n",
    "        dens_mat = np.array(dens_mat)\n",
    "    if dens_mat.shape != (4, 4) and nxn_valid_quantum(dens_mat): return \"Not a valid 2 qubit density matrix\"\n",
    "    if select_mat == \"a\" : return [[dens_mat[0][0] + dens_mat[2][2], dens_mat[0][1] + dens_mat[2][3]], [dens_mat[1][0] + dens_mat[3][2], dens_mat[1][1] + dens_mat[3][3]]]\n",
    "    if select_mat == \"b\" : return [[dens_mat[0][0] + dens_mat[1][1], dens_mat[0][2] + dens_mat[1][3]], [dens_mat[2][0] + dens_mat[3][1], dens_mat[2][2] + dens_mat[3][3]]]\n",
    "\n",
    "partial_trace_2q(density_mat_from_state_vec(normalize_state_vec([0, 1, -1, 0])) , \"a\")"
   ]
  },
  {
   "cell_type": "markdown",
   "metadata": {
    "id": "fKnXTwfl2osr"
   },
   "source": [
    "# ( ) Tensor Product of two matrices"
   ]
  },
  {
   "cell_type": "code",
   "execution_count": 14,
   "metadata": {
    "colab": {
     "base_uri": "https://localhost:8080/"
    },
    "id": "mqdaBVaJZQyR",
    "outputId": "c7a8641f-5859-4e3a-fc2f-c3657bd75cf2"
   },
   "outputs": [
    {
     "name": "stdout",
     "output_type": "stream",
     "text": [
      "[[ 2.26769422 -1.46960439  0.32834951 ...  1.08145136  0.62009704\n",
      "   1.36293179]\n",
      " [ 1.81446708  1.79819431 -2.05115974 ... -0.81794716  0.52214222\n",
      "  -0.29859596]\n",
      " [ 1.27718056 -0.25999014  0.03161849 ...  0.61054945 -0.59316389\n",
      "   0.04539026]\n",
      " ...\n",
      " [-0.20435726  0.346898    0.71883651 ... -0.42401828  0.10489018\n",
      "   0.89432316]\n",
      " [ 0.458415   -0.55951603  0.15649412 ... -1.762834   -2.94277103\n",
      "  -0.06918863]\n",
      " [ 0.17743908  0.34126903 -0.09068977 ... -1.56934333 -0.39440071\n",
      "   1.18083229]]\n",
      "CPU times: total: 31.2 ms\n",
      "Wall time: 90.9 ms\n"
     ]
    }
   ],
   "source": [
    "%%time\n",
    "\n",
    "n = 20\n",
    "bbb = np.random.randn(n, n)\n",
    "\n",
    "def tensor_prod(mat1, mat2):\n",
    "    if type(mat1) != np.array or type(mat2) != np.array:\n",
    "        mat1, mat2 = np.array(mat1), np.array(mat2)\n",
    "    prod_mat = []\n",
    "\n",
    "    # if len(mat1.shape) < 2:\n",
    "        \n",
    "    \n",
    "    for i in range(mat1.shape[0]):\n",
    "        for j in range(mat1.shape[1]):\n",
    "            for k in range(mat2.shape[0]):\n",
    "                for l in range(mat2.shape[1]):\n",
    "                    prod_mat.append(mat1[i][k] * mat2[j][l])\n",
    "    return np.array(prod_mat).reshape(mat1.shape[0] * mat2.shape[0], mat1.shape[1] * mat2.shape[1])\n",
    "\n",
    "# print(np.kron([[1, 2], [3, 8]], [[1, 9], [0, 1]]))\n",
    "print(tensor_prod(bbb, bbb))"
   ]
  },
  {
   "cell_type": "code",
   "execution_count": 15,
   "metadata": {
    "colab": {
     "base_uri": "https://localhost:8080/"
    },
    "id": "9cEco_Jw7cW6",
    "outputId": "c797264d-d866-4afa-da35-1da36acde326"
   },
   "outputs": [
    {
     "name": "stdout",
     "output_type": "stream",
     "text": [
      "CPU times: total: 0 ns\n",
      "Wall time: 1.4 ms\n"
     ]
    },
    {
     "data": {
      "text/plain": [
       "array([[ 2.26769422, -1.46960439,  0.32834951, ...,  1.08145136,\n",
       "         0.62009704,  1.36293179],\n",
       "       [ 1.81446708,  1.79819431, -2.05115974, ..., -0.81794716,\n",
       "         0.52214222, -0.29859596],\n",
       "       [ 1.27718056, -0.25999014,  0.03161849, ...,  0.61054945,\n",
       "        -0.59316389,  0.04539026],\n",
       "       ...,\n",
       "       [-0.20435726,  0.346898  ,  0.71883651, ..., -0.42401828,\n",
       "         0.10489018,  0.89432316],\n",
       "       [ 0.458415  , -0.55951603,  0.15649412, ..., -1.762834  ,\n",
       "        -2.94277103, -0.06918863],\n",
       "       [ 0.17743908,  0.34126903, -0.09068977, ..., -1.56934333,\n",
       "        -0.39440071,  1.18083229]])"
      ]
     },
     "execution_count": 15,
     "metadata": {},
     "output_type": "execute_result"
    }
   ],
   "source": [
    "%%time\n",
    "np.kron(bbb, bbb)"
   ]
  },
  {
   "cell_type": "markdown",
   "metadata": {
    "id": "i9Lk1rvmLetV"
   },
   "source": [
    "$$\\begin{pmatrix} 00|00 & 00|01 \\end{pmatrix}$$"
   ]
  },
  {
   "cell_type": "code",
   "execution_count": 16,
   "metadata": {
    "colab": {
     "base_uri": "https://localhost:8080/"
    },
    "id": "XBjSBBV59yA1",
    "outputId": "99a26edb-32d2-4346-c5f4-b8019c301d16"
   },
   "outputs": [
    {
     "name": "stdout",
     "output_type": "stream",
     "text": [
      "4 [['00:00 0' '00:01 1' '00:00 0' '00:01 1' '00:00 0']\n",
      " ['00:01 1' '00:10 2' '00:11 3' '01:00 4' '01:01 5']\n",
      " ['01:10 6' '01:11 7' '10:00 8' '10:01 9' '10:10 10']\n",
      " ['10:11 11' '11:00 12' '11:01 13' '11:10 14' '11:11 15']]\n"
     ]
    }
   ],
   "source": [
    "n = 4\n",
    "\n",
    "def dec2bin(decc):\n",
    "    bin_val = []\n",
    "    ccv = decc\n",
    "    while decc > 0:\n",
    "        bin_val.append(str(decc % 2))\n",
    "        decc //= 2\n",
    "    while len(bin_val) < n:\n",
    "        bin_val.append('0')\n",
    "    l = \"\".join(bin_val[::-1])\n",
    "    return f\"{l[0:len(l) // 2]}:{l[len(l) // 2: len(l)]} {ccv}\"\n",
    "\n",
    "bb = []\n",
    "\n",
    "i = 0\n",
    "j = 0\n",
    "while i < 2**n:\n",
    "    bb.append(dec2bin(i))\n",
    "    i += 1\n",
    "    if i % 2 == 0 and j < 2:\n",
    "        j += 1\n",
    "        i = 0\n",
    "\n",
    "bb = np.array(bb).reshape(2**2, 5)\n",
    "print(len(bb), bb)"
   ]
  },
  {
   "cell_type": "markdown",
   "metadata": {
    "id": "1_AzgC6qySx8"
   },
   "source": [
    "# Partial Trace using np.kron and np.matmul"
   ]
  },
  {
   "cell_type": "code",
   "execution_count": 17,
   "metadata": {
    "colab": {
     "base_uri": "https://localhost:8080/"
    },
    "id": "J-_-LheHy0mm",
    "outputId": "dd2c41c1-897e-4d6b-e21d-d5a751b04da2"
   },
   "outputs": [
    {
     "name": "stdout",
     "output_type": "stream",
     "text": [
      "0\n",
      "1\n",
      "3\n"
     ]
    },
    {
     "data": {
      "text/plain": [
       "array([[1., 0., 0., 0., 0., 0., 0., 0., 0., 0., 0., 0., 0., 0., 0., 0.],\n",
       "       [0., 0., 1., 0., 0., 0., 0., 0., 0., 0., 0., 0., 0., 0., 0., 0.]])"
      ]
     },
     "execution_count": 17,
     "metadata": {},
     "output_type": "execute_result"
    }
   ],
   "source": [
    " \n",
    " \n",
    "#  a = np.kron(np.eye(2), [1, 0]) + np.kron(np.eye(2), [0, 1])\n",
    "#  c = np.kron(np.eye(2), [[1], [0]]) + np.kron(np.eye(2), [[0], [1]])\n",
    "\n",
    "#  b = [[0.5, 0, 0, 0.5], [0, 0, 0, 0], [0, 0, 0, 0], [0.5, 0, 0, 0.5]]\n",
    "\n",
    "#  np.matmul(np.matmul(a, b), c)\n",
    "\n",
    "def partial_trace_from_dm(matrix, pttr):\n",
    "    basis = np.eye(2)\n",
    "    # a = 1\n",
    "    if type(matrix) != np.array:\n",
    "        matrix = np.array(matrix)\n",
    "    if nxn_valid_quantum(matrix):\n",
    "        a_m = np.eye(matrix.shape[0])\n",
    "        a_ = 0\n",
    "        # b = np.zeros(len(pttr) * 2, matrix.shape[0])\n",
    "        a = 1\n",
    "        for i in range(int(np.log2(matrix.shape[0]))):\n",
    "            if i + 1 in pttr:\n",
    "                a = np.kron(a, basis[0])\n",
    "                print(i)\n",
    "            else:\n",
    "                a = np.kron(a, basis)\n",
    "        a_ += a\n",
    "            \n",
    "    # return np.matmul(np.matmul(a, matrix), c)\n",
    "    return a_\n",
    "\n",
    "partial_trace_from_dm(density_mat_from_state_vec(normalize_state_vec([1, 0, 0, 0, 0, 0, 0, 1, 0, 0, 0, 0, 0, 0, 0, 1])), [1, 2, 4])"
   ]
  },
  {
   "cell_type": "code",
   "execution_count": 18,
   "metadata": {
    "colab": {
     "base_uri": "https://localhost:8080/"
    },
    "id": "3YmM8VEZp--C",
    "outputId": "eeccd00a-d174-492e-b903-ae8bada40be0"
   },
   "outputs": [
    {
     "data": {
      "text/plain": [
       "array([[0., 0.]])"
      ]
     },
     "execution_count": 18,
     "metadata": {},
     "output_type": "execute_result"
    }
   ],
   "source": [
    "np.zeros((1, 2))"
   ]
  },
  {
   "cell_type": "markdown",
   "metadata": {
    "id": "A6EqvwCVkzJb"
   },
   "source": [
    "# Partial Trace - Contd."
   ]
  },
  {
   "cell_type": "markdown",
   "metadata": {
    "id": "htlwOwPiiVUm"
   },
   "source": [
    "\n",
    "\n",
    "## Print only binary indices (000, 001, 100, 101, etc.)\n",
    "\n",
    "Problem Statement.\n",
    "\n",
    "You are given an array of integers and a number 'n'.\n",
    "\n",
    "Eg: [1, 3]; n = 4\n",
    "\n",
    "0000 - 0 \\\\\n",
    "0001 - 1 \\\\\n",
    "0100 - 4 \\\\\n",
    "0101 - 5 \\\\\n",
    "\n",
    "[2, 3, 5]; n = 6\n",
    "\n",
    "000000 - 0 \\\\\n",
    "000010 - 2 \\\\\n",
    "000100 - 4 \\\\\n",
    "000110 - 6 \\\\\n",
    "010000 - 16 \\\\\n",
    "010010 - 18 \\\\\n",
    "010100 - 20 \\\\\n",
    "010110 - 22\n",
    "\n",
    "[1,4,6]; n = 6\n",
    "\n",
    "000000 - 0 \\\\\n",
    "000001 - 1 \\\\\n",
    "001000 - 8 \\\\\n",
    "001001 - 9 \\\\\n",
    "100000 - 64 \\\\\n",
    "100001 - 65 \\\\\n",
    "101000 - 80 \\\\\n",
    "101001 - 81"
   ]
  },
  {
   "cell_type": "code",
   "execution_count": 19,
   "metadata": {
    "colab": {
     "base_uri": "https://localhost:8080/"
    },
    "id": "sxAB0c9nrHic",
    "outputId": "4d02aa4b-f0e0-46a8-d2f7-ff6c9ac8cf33"
   },
   "outputs": [
    {
     "name": "stdout",
     "output_type": "stream",
     "text": [
      "0\n",
      "-0\n",
      "0\n",
      "-1\n",
      "0\n",
      "1-0\n",
      "0\n",
      "1-1\n"
     ]
    }
   ],
   "source": [
    "def tensor_frm_str(stri):\n",
    "    a = 1\n",
    "    for c in stri:\n",
    "        if c == \"-\":\n",
    "            a = np.kron(np.eye(2), a)\n",
    "        elif c == \"0\":\n",
    "            a = np.kron(np.eye(2)[0], a)\n",
    "        else:\n",
    "            a = np.kron(np.eye(2)[1], a)\n",
    "    return a\n",
    "\n",
    "cc = [1, 3]\n",
    "n = 3\n",
    "\n",
    "def binfrdec(dec, stdlen):\n",
    "    k = []\n",
    "    while dec > 0:\n",
    "        k.append(str(dec % 2))\n",
    "        dec //= 2\n",
    "    while len(k) < stdlen:\n",
    "        k.append(str(0))\n",
    "    return k\n",
    "\n",
    "def places(arr, cc, n):\n",
    "    for i in range(n):\n",
    "        if i in cc:\n",
    "            arr.insert(i, \"-\")\n",
    "    return \"\".join(arr[::-1])\n",
    "\n",
    "\n",
    "def partial_trace_final_dm(dens_mat, cc):\n",
    "    if type(dens_mat) != np.array:\n",
    "        dens_mat = np.array(dens_mat)\n",
    "    if nxn_valid_quantum(dens_mat):\n",
    "        n = dens_mat.shape[0]\n",
    "        a = 0\n",
    "        for i in range(n):\n",
    "            # a += tensor_frm_str(places(binfrdec(i, len(cc)), cc, n))\n",
    "            print(a)\n",
    "            print(places(binfrdec(i, len(cc)), cc, n))\n",
    "        # return np.matmul(np.matmul(a, dens_mat), np.transpose(a))\n",
    "        \n",
    "partial_trace_final_dm(density_mat_from_state_vec(normalize_state_vec([1, 0, 0, 1])), [1])\n",
    "# print(a)"
   ]
  },
  {
   "cell_type": "code",
   "execution_count": 20,
   "metadata": {
    "colab": {
     "base_uri": "https://localhost:8080/"
    },
    "id": "21tFSqUnY3sO",
    "outputId": "ff6a6313-cdd3-4e3d-aef7-ce8e734a8cf8"
   },
   "outputs": [
    {
     "name": "stdout",
     "output_type": "stream",
     "text": [
      "1.0000000000000002\n",
      "CPU times: total: 62.5 ms\n",
      "Wall time: 116 ms\n"
     ]
    }
   ],
   "source": [
    "%%time\n",
    "\n",
    "pttx = [0, 1, 2]\n",
    "tot = 10\n",
    "\n",
    "kk = [2**i for i in pttx]\n",
    "kk = kk[::-1]\n",
    "jj = [2**i for i in range(tot) if i not in pttx]\n",
    "jj = jj[::-1]\n",
    "\n",
    "rho = density_mat_from_state_vec(normalize_state_vec([i for i in range(1, 2**tot + 1)]))\n",
    "\n",
    "def binfromdec(number, rng):\n",
    "    arr = []\n",
    "    while number > 0:\n",
    "        arr.append(str(number % 2))\n",
    "        number //= 2 \n",
    "    while len(arr) < rng:\n",
    "        arr.append(str(0))\n",
    "    return \"\".join(arr[::-1])\n",
    "\n",
    "\n",
    "gg = []\n",
    "\n",
    "for i in range(2**(tot - len(pttx))):\n",
    "    str1 = binfromdec(i, tot - len(pttx))\n",
    "    sum = 0\n",
    "    for j in range(len(str1)):\n",
    "        sum += int(str1[j]) * jj[j]\n",
    "    gg.append(sum)\n",
    "\n",
    "hh = []\n",
    "for i in range(2**(len(pttx))):\n",
    "    str1 = binfromdec(i, len(pttx))\n",
    "    sum = 0\n",
    "    for j in range(len(str1)):\n",
    "        sum += int(str1[j]) * kk[j]\n",
    "    hh.append(sum)\n",
    "hh = np.array(hh)\n",
    "\n",
    "ans = np.zeros((2**(tot - len(pttx)), 2**(tot - len(pttx))))\n",
    "# print(np.shape(ans), ans)\n",
    "# len(gg), len(hh), len(rho)\n",
    "# print(gg, hh)\n",
    "\n",
    "for i in range(len(hh)):\n",
    "    \n",
    "    ll = hh[i] + gg\n",
    "    # print(ll, hh[i])\n",
    "# ll = np.zeros((4, 1))\n",
    "    for j in range(ans.shape[0]):\n",
    "        for k in range(ans.shape[0]):\n",
    "            ans[j][k] += rho[ll[j]][ll[k]]\n",
    "         \n",
    "    \n",
    "print(trace(ans))\n",
    "# rho[hh[4]][hh[1]]"
   ]
  },
  {
   "cell_type": "markdown",
   "metadata": {
    "id": "Ryhymqme_kVy"
   },
   "source": [
    "# Partial trace with Function"
   ]
  },
  {
   "cell_type": "code",
   "execution_count": 21,
   "metadata": {
    "colab": {
     "base_uri": "https://localhost:8080/"
    },
    "id": "xbn5VYty_oOg",
    "outputId": "734f56df-394a-4e2b-853f-6f9400747c77"
   },
   "outputs": [
    {
     "name": "stdout",
     "output_type": "stream",
     "text": [
      "1.0000000000000002\n"
     ]
    }
   ],
   "source": [
    "# %%time\n",
    "\n",
    "pttx = [0, 1, 2]\n",
    "tot = 10\n",
    "\n",
    "kk = [2**i for i in pttx]\n",
    "kk = kk[::-1]\n",
    "jj = [2**i for i in range(tot) if i not in pttx]\n",
    "jj = jj[::-1]\n",
    "\n",
    "rho = density_mat_from_state_vec(normalize_state_vec([i for i in range(1, 2**tot + 1)]))\n",
    "\n",
    "def binfromdec(number, rng):\n",
    "    arr = []\n",
    "    while number > 0:\n",
    "        arr.append(str(number % 2))\n",
    "        number //= 2 \n",
    "    while len(arr) < rng:\n",
    "        arr.append(str(0))\n",
    "    return \"\".join(arr[::-1])\n",
    "\n",
    "def weights(pttx, val):\n",
    "    arr = []\n",
    "    if val == 'a':\n",
    "        str_val = tot - len(pttx)\n",
    "        weights_mat = jj\n",
    "    elif val == 'b':\n",
    "        str_val = len(pttx)\n",
    "        weights_mat = kk\n",
    "    for i in range(2**str_val):\n",
    "        str1 = binfromdec(i, str_val)\n",
    "        sum = 0\n",
    "        for j in range(len(str1)):\n",
    "            sum += int(str1[j]) * weights_mat[j]\n",
    "        arr.append(sum)\n",
    "    return np.array(arr)\n",
    "\n",
    "gg = weights(pttx, 'a')\n",
    "hh = weights(pttx, 'b')\n",
    "\n",
    "ans = np.zeros((2**(tot - len(pttx)), 2**(tot - len(pttx))))\n",
    "\n",
    "for i in range(len(hh)):\n",
    "    ll = hh[i] + gg\n",
    "    for j in range(ans.shape[0]):\n",
    "        for k in range(ans.shape[0]):\n",
    "            ans[j][k] += rho[ll[j]][ll[k]]\n",
    "         \n",
    "    \n",
    "print(trace(ans))"
   ]
  },
  {
   "cell_type": "markdown",
   "metadata": {
    "id": "I5VJHnAyFF31"
   },
   "source": [
    "# 2 qubit concurrence pure states"
   ]
  },
  {
   "cell_type": "code",
   "execution_count": 22,
   "metadata": {
    "colab": {
     "base_uri": "https://localhost:8080/"
    },
    "id": "sjsWzVKiD4xt",
    "outputId": "f5efd76a-dc34-4bc7-8e9b-bf0bff72cc22"
   },
   "outputs": [
    {
     "name": "stdout",
     "output_type": "stream",
     "text": [
      "CPU times: total: 0 ns\n",
      "Wall time: 0 ns\n"
     ]
    },
    {
     "data": {
      "text/plain": [
       "0.9999999999999996"
      ]
     },
     "execution_count": 22,
     "metadata": {},
     "output_type": "execute_result"
    }
   ],
   "source": [
    "%%time\n",
    "\n",
    "a = 1 / np.sqrt(2) * np.array([1, 0, 0, 1])\n",
    "def concurrence(a):\n",
    "    if type(a) != np.array:\n",
    "        a = np.array(a)\n",
    "    if len(a.shape) == 1:\n",
    "        sig_y = [[0, 0, 0, -1], [0, 0, 1, 0], [0, 1, 0, 0], [-1, 0, 0, 0]]\n",
    "        return ((a @ sig_y @ a.T)**2)\n",
    "\n",
    "concurrence(a)"
   ]
  },
  {
   "cell_type": "code",
   "execution_count": 23,
   "metadata": {
    "colab": {
     "base_uri": "https://localhost:8080/"
    },
    "id": "ZWw2a9MWaeX0",
    "outputId": "dbd9b625-e2dd-448d-abe7-b2eccf87d824"
   },
   "outputs": [
    {
     "name": "stdout",
     "output_type": "stream",
     "text": [
      "False\n"
     ]
    }
   ],
   "source": [
    "number = 10\n",
    "\n",
    "for i in range(2, number // 2 + 1):\n",
    "    if number % i == 0:\n",
    "        print(\"False\")\n",
    "        break"
   ]
  },
  {
   "cell_type": "markdown",
   "metadata": {
    "id": "5y4cdVXWQLmJ"
   },
   "source": [
    "# PPT for n qubit system (Incomplete)"
   ]
  },
  {
   "cell_type": "code",
   "execution_count": 24,
   "metadata": {
    "id": "MfNd-rMFrBBk"
   },
   "outputs": [],
   "source": [
    "n = 2\n",
    "dens_mat = density_mat_from_state_vec(normalize_state_vec([1, 0, 0, 1]))\n",
    "# print( dens_mat)\n",
    "ppt_dens = dens_mat\n",
    "# ppt_dens = np.ones((2**n, 2**n)) * 10\n",
    "\n",
    "#[0, 1, 4, 5] [2, 3, 6, 7]\n",
    "\n",
    "def arr2num(arr):\n",
    "    num = 0\n",
    "    arr = arr[::-1]\n",
    "    for i in range(len(arr)):\n",
    "        num += arr[i] * 2**i\n",
    "        # print(num, arr[i], i)\n",
    "    return num\n",
    "\n",
    "def dec2bin_num(num):\n",
    "    bin = []\n",
    "    while num > 0:\n",
    "        bin.append(num % 2)\n",
    "        num //= 2\n",
    "    while len(bin) < n:\n",
    "        bin.append(0)\n",
    "    return bin[::-1]\n",
    "\n",
    "def generate_bin(n):\n",
    "    arr = []\n",
    "    for x in range(2**n):\n",
    "        arr.append(dec2bin_num(x))\n",
    "    return arr\n",
    "\n",
    "def ppt(dens_mat, qubit):\n",
    "    if nxn_valid_quantum(dens_mat):\n",
    "        n = int(np.log2(dens_mat.shape[0]))\n",
    "        all_binary = generate_bin(n)\n",
    "        all_binary_2 = generate_bin(n)\n",
    "        part_qubit = n - qubit - 1\n",
    "        cnt = 0\n",
    "        orig = dens_mat\n",
    "        ppt_dens = np.zeros((2**n, 2**n))\n",
    "        for i in range(2**n):\n",
    "            for j in range(2**n):\n",
    "                if all_binary[i][part_qubit] != all_binary[j][part_qubit]:\n",
    "                    dens_mat = orig\n",
    "                    # old_i, old_j = arr2num(all_binary[i]), arr2num(all_binary[j])\n",
    "                    all_binary_2[i][part_qubit], all_binary_2[j][part_qubit] = all_binary[j][part_qubit], all_binary[i][part_qubit]\n",
    "#                     print(arr2num(all_binary[i]), arr2num(all_binary[j]), \"New\",arr2num(all_binary_2[i]), arr2num(all_binary_2[j]))\n",
    "                    ppt_dens[arr2num(all_binary[i])][arr2num(all_binary[j])] = dens_mat[arr2num(all_binary_2[i])][arr2num(all_binary_2[j])]\n",
    "                    # print(dens_mat, \"\\n\", ppt_dens)\n",
    "                else:\n",
    "                    ppt_dens[i][j] = dens_mat[i][j]\n",
    "        return ppt_dens"
   ]
  },
  {
   "cell_type": "code",
   "execution_count": 25,
   "metadata": {
    "colab": {
     "base_uri": "https://localhost:8080/"
    },
    "id": "FWE3pv-3MxWc",
    "outputId": "45580e6a-c768-4e98-829e-a1ed44cd86f5"
   },
   "outputs": [
    {
     "data": {
      "text/plain": [
       "array([[0.5, 0. , 0. , 0. ],\n",
       "       [0. , 0. , 0.5, 0. ],\n",
       "       [0. , 0.5, 0. , 0. ],\n",
       "       [0. , 0. , 0. , 0.5]])"
      ]
     },
     "execution_count": 25,
     "metadata": {},
     "output_type": "execute_result"
    }
   ],
   "source": [
    "ppt(density_mat_from_state_vec(normalize_state_vec([1, 0, 0, 1])), 2)"
   ]
  },
  {
   "cell_type": "code",
   "execution_count": 26,
   "metadata": {
    "colab": {
     "base_uri": "https://localhost:8080/"
    },
    "id": "ZlUaI-4uJpU_",
    "outputId": "8550b105-3264-4235-a8bb-320dd975c823"
   },
   "outputs": [
    {
     "data": {
      "text/plain": [
       "array([[0.5, 0. , 0. , 0.5],\n",
       "       [0. , 0. , 0. , 0. ],\n",
       "       [0. , 0. , 0. , 0. ],\n",
       "       [0.5, 0. , 0. , 0.5]])"
      ]
     },
     "execution_count": 26,
     "metadata": {},
     "output_type": "execute_result"
    }
   ],
   "source": [
    "            # # print(\"Before\", all_binary[i], all_binary[j], arr2num(all_binary[i]), arr2num(all_binary[j]), dens_mat[arr2num(all_binary[i]), arr2num(all_binary[j])])\n",
    "            # all_binary_2[i][part_qubit], all_binary_2[j][part_qubit] = all_binary[j][part_qubit], all_binary[i][part_qubit]\n",
    "            # print(all_binary, all_binary_2)\n",
    "            # # print(\"After\", all_binary_2[i], all_binary_2[j], arr2num(all_binary_2[i]), arr2num(all_binary_2[j]), dens_mat[arr2num(all_binary_2[i]), arr2num(all_binary_2[j])])\n",
    "            # new_i, new_j = arr2num(all_binary_2[i]), arr2num(all_binary_2[j])\n",
    "            # # print(ppt_dens[old_i][old_j], \"Before\", i, j )\n",
    "            # dens_mat[old_i][old_j] = dens_mat[new_i][new_j]\n",
    "            # # print(ppt_dens[old_i][old_j], \"After\" , i, j, \"from\", new_i, new_j)\n",
    "            # # print(\"Old matrix\\n\", dens_mat)\n",
    "            # # print(\"New matrix\\n\", ppt_dens)\n",
    "            # # print(all_binary[i], all_binary[j], old_i, old_j, new_i, new_j)\n",
    "dens_mat"
   ]
  },
  {
   "cell_type": "code",
   "execution_count": 27,
   "metadata": {
    "colab": {
     "base_uri": "https://localhost:8080/"
    },
    "id": "PSZC4-LsPv_P",
    "outputId": "491307c8-274d-40aa-a8b7-6b9e438b2c17"
   },
   "outputs": [
    {
     "name": "stdout",
     "output_type": "stream",
     "text": [
      "CPU times: total: 78.1 ms\n",
      "Wall time: 219 ms\n"
     ]
    }
   ],
   "source": [
    "%%time\n",
    "n = 8\n",
    "val = 10\n",
    "dens_mat = density_mat_from_state_vec(normalize_state_vec([x % val for x in range(2**n)]))\n",
    "for qubit in range(1, 2):\n",
    "    \n",
    "    all_binary = generate_bin(n)\n",
    "    all_binary_2 = generate_bin(n)\n",
    "    # qubit = 0\n",
    "    part_qubit = n - qubit - 1\n",
    "    cnt = 0\n",
    "    # ppt_dens = dens_mat\n",
    "    ppt_dens = []\n",
    "    for i in range(2**n):\n",
    "        for j in range(2**n):\n",
    "            if all_binary[i][part_qubit] != all_binary[j][part_qubit]:\n",
    "                #dens_mat = density_mat_from_state_vec(normalize_state_vec([x % val for x in range(2**n)]))\n",
    "                # old_i, old_j = arr2num(all_binary[i]), arr2num(all_binary[j])\n",
    "                all_binary_2[i][part_qubit], all_binary_2[j][part_qubit] = all_binary[j][part_qubit], all_binary[i][part_qubit]\n",
    "                # print(arr2num(all_binary[i]), arr2num(all_binary[j]), \"New\",arr2num(all_binary_2[i]), arr2num(all_binary_2[j]))\n",
    "                #ppt_dens[arr2num(all_binary[i])][arr2num(all_binary[j])] = dens_mat[arr2num(all_binary_2[i])][arr2num(all_binary_2[j])]\n",
    "                ppt_dens.append(dens_mat[arr2num(all_binary_2[i])][arr2num(all_binary_2[j])])\n",
    "                # print(dens_mat, \"\\n\", ppt_dens)\n",
    "            else:\n",
    "                # print(i, j)\n",
    "                #ppt_dens[i][j] = dens_mat[i][j]\n",
    "                ppt_dens.append(dens_mat[i][j])\n",
    "    ppt_dens = np.array(ppt_dens).reshape(2**n, 2**n)\n",
    "\n",
    "    # print(ppt_dens)\n",
    "    # plt.subplots(1, 2)\n",
    "    # plt.imshow(dens_mat)\n",
    "    # plt.subplot(1, 2, 2)\n",
    "    # plt.imshow(ppt_dens)\n",
    "# plt.imshow(ppt_dens)"
   ]
  },
  {
   "cell_type": "code",
   "execution_count": null,
   "metadata": {
    "id": "Vsl2MjyESH2n"
   },
   "outputs": [],
   "source": []
  },
  {
   "cell_type": "code",
   "execution_count": 28,
   "metadata": {
    "colab": {
     "base_uri": "https://localhost:8080/"
    },
    "id": "G5XaS1b1qUgT",
    "outputId": "33629841-0a13-4242-e5ee-5ef9e80c1c55"
   },
   "outputs": [
    {
     "data": {
      "text/plain": [
       "2"
      ]
     },
     "execution_count": 28,
     "metadata": {},
     "output_type": "execute_result"
    }
   ],
   "source": [
    "def arr2num(arr):\n",
    "    num = 0\n",
    "    arr = arr[::-1]\n",
    "    for i in range(len(arr)):\n",
    "        num += arr[i] * 2**i\n",
    "        # print(num, arr[i], i)\n",
    "    return num\n",
    "\n",
    "arr2num([1, 0])"
   ]
  },
  {
   "cell_type": "markdown",
   "metadata": {
    "id": "OvqZczz0GHP5"
   },
   "source": [
    "# Concurrence of 2 qubit pure States for different probabilities"
   ]
  },
  {
   "cell_type": "code",
   "execution_count": 29,
   "metadata": {
    "colab": {
     "base_uri": "https://localhost:8080/",
     "height": 279
    },
    "id": "gGjt10a7GQ7D",
    "outputId": "2d8e8f7c-8f65-41f8-af8f-67f3d8d81e07"
   },
   "outputs": [
    {
     "data": {
      "image/png": "[encoded data removed]",
      "text/plain": [
       "<Figure size 432x288 with 1 Axes>"
      ]
     },
     "metadata": {
      "needs_background": "light"
     },
     "output_type": "display_data"
    }
   ],
   "source": [
    "con_vals = []\n",
    "\n",
    "for x in np.arange(0, 1, 0.01):\n",
    "        con_vals.append(concurrence([np.sqrt(x), 0, 0, np.sqrt(1 - x)]))\n",
    "\n",
    "# con_vals = np.array(con_vals).reshape(100, 100)\n",
    "# plt.imshow(con_vals, cmap = 'binary')\n",
    "plt.plot(np.arange(0, 1, 0.01), con_vals)\n",
    "plt.xlabel(\"Probability\")\n",
    "# plt.axis('off')\n",
    "plt.show()"
   ]
  },
  {
   "cell_type": "markdown",
   "metadata": {
    "id": "lUTx0s1gkQt9"
   },
   "source": [
    "# Linear Entropy"
   ]
  },
  {
   "cell_type": "code",
   "execution_count": 30,
   "metadata": {
    "colab": {
     "base_uri": "https://localhost:8080/"
    },
    "id": "X5W-_bE5kVCi",
    "outputId": "db4c3fec-6cfb-4504-e488-61278dc1d55a"
   },
   "outputs": [
    {
     "data": {
      "text/plain": [
       "0.48"
      ]
     },
     "execution_count": 30,
     "metadata": {},
     "output_type": "execute_result"
    }
   ],
   "source": [
    "def linear_entropy(dens_mat):\n",
    "    if type(dens_mat) != np.array:\n",
    "        dens_mat = np.array(dens_mat)\n",
    "    if nxn_valid_quantum(dens_mat):\n",
    "        lin_en = 1 - trace(dens_mat @ dens_mat)\n",
    "        if abs(lin_en) < 1 * 10**-15: \n",
    "            return 0\n",
    "        else: \n",
    "            return lin_en\n",
    "\n",
    "linear_entropy([[0.4, 0], [0, 0.6]])"
   ]
  },
  {
   "cell_type": "markdown",
   "metadata": {
    "id": "3kWuhYSWL74m"
   },
   "source": [
    "# Stokes vector from density matrix for one qubit system"
   ]
  },
  {
   "cell_type": "code",
   "execution_count": 31,
   "metadata": {
    "colab": {
     "base_uri": "https://localhost:8080/",
     "height": 391
    },
    "id": "6YJoaK2KMBUW",
    "outputId": "c442fd2b-6e39-4edb-93cc-2fd09d70d5ad"
   },
   "outputs": [
    {
     "data": {
      "image/png": "[encoded data removed]",
      "text/plain": [
       "<Figure size 360x360 with 1 Axes>"
      ]
     },
     "execution_count": 31,
     "metadata": {},
     "output_type": "execute_result"
    }
   ],
   "source": [
    "def stokes_vec_from_dens_mat(dens_mat):\n",
    "    if type(dens_mat) != np.array:\n",
    "        dens_mat = np.array(dens_mat)\n",
    "    if nxn_valid_quantum(dens_mat):\n",
    "        s0 = np.real(trace(dens_mat))\n",
    "        s1 = np.real((trace(np.array([[0, 1], [1, 0]]) @ dens_mat)))\n",
    "        s2 = np.real((trace(np.array([[0, -1j], [1j, 0]]) @ dens_mat)))\n",
    "        s3 = np.real(trace(np.array([[1, 0], [0, -1]]) @ dens_mat))\n",
    "        return [s0, s1, s2, s3]\n",
    "    else: return False\n",
    "\n",
    "# _, x, y, z = stokes_vec_from_dens_mat()\n",
    "\n",
    "def plot_bloch_vector_from_dm(dens_mat):\n",
    "    if stokes_vec_from_dens_mat(dens_mat) and nxn_valid_quantum(dens_mat):\n",
    "        _, x, y, z = stokes_vec_from_dens_mat(dens_mat)\n",
    "        return plot_bloch_vector([x, y, z])\n",
    "\n",
    "plot_bloch_vector_from_dm(density_mat_from_state_vec(normalize_state_vec([0, 1])))\n",
    "# # print(x, y, z)\n",
    "# plot_bloch_vector([x, y, z])"
   ]
  },
  {
   "cell_type": "markdown",
   "metadata": {
    "id": "REQzSaiF3WKy"
   },
   "source": [
    "# Stokes Vector for Two Qubit System"
   ]
  },
  {
   "cell_type": "code",
   "execution_count": 32,
   "metadata": {
    "colab": {
     "base_uri": "https://localhost:8080/",
     "height": 283
    },
    "id": "XjhGB3sR9Fly",
    "outputId": "5d154488-26d7-4c69-e614-6eff501756c0"
   },
   "outputs": [
    {
     "name": "stdout",
     "output_type": "stream",
     "text": [
      "[1.0, 0.0, 0.0, 0.0, 0.0, 1.0, 0.0, 0.0, 0.0, 0.0, -1.0, 0.0, 0.0, 0.0, 0.0, 1.0]\n"
     ]
    },
    {
     "data": {
      "image/png": "[encoded data removed]",
      "text/plain": [
       "<Figure size 432x288 with 1 Axes>"
      ]
     },
     "metadata": {
      "needs_background": "light"
     },
     "output_type": "display_data"
    }
   ],
   "source": [
    "def stokes_two_qubit(dens_mat):\n",
    "    if nxn_valid_quantum(dens_mat):\n",
    "        if type(dens_mat) != np.array:\n",
    "            dens_mat = np.array(dens_mat)\n",
    "        pauli = [np.array([[1, 0], [0, 1]]), np.array([[0, 1], [1, 0]]), np.array([[0, -1j], [1j, 0]]), np.array([[1, 0], [0, -1]])]\n",
    "        stokes_vec = []\n",
    "        for x in pauli:\n",
    "            for y in pauli:\n",
    "                stokes_vec.append(np.round(np.real(trace(np.kron(x, y) @ dens_mat)), 5))\n",
    "                # print(np.kron(x, y))\n",
    "        return stokes_vec\n",
    "\n",
    "stokes_vec = stokes_two_qubit(density_mat_from_state_vec(normalize_state_vec([1, 0, 0, 1])))\n",
    "print(stokes_vec)\n",
    "plt.scatter(np.arange(16), stokes_vec)\n",
    "plt.show()"
   ]
  },
  {
   "cell_type": "markdown",
   "metadata": {
    "id": "xP23DcSFkvp1"
   },
   "source": [
    "#Von Neumann Entropy"
   ]
  },
  {
   "cell_type": "markdown",
   "metadata": {
    "id": "NCJxegkJm1ik"
   },
   "source": [
    "$$-tr(\\rho ln \\rho)$$"
   ]
  },
  {
   "cell_type": "code",
   "execution_count": 33,
   "metadata": {
    "colab": {
     "base_uri": "https://localhost:8080/"
    },
    "id": "g_6nGC2SKu3_",
    "outputId": "00e72003-80fb-47b7-82a3-75205aef4dcb"
   },
   "outputs": [
    {
     "data": {
      "text/plain": [
       "0.0"
      ]
     },
     "execution_count": 33,
     "metadata": {},
     "output_type": "execute_result"
    }
   ],
   "source": [
    "def von_neumann(mat):\n",
    "    if type(mat) != np.array:\n",
    "        mat = np.array(mat)\n",
    "    if nxn_valid_quantum(mat):\n",
    "        eig_vals, eig_vecs = np.linalg.eig(mat)\n",
    "        eig_vals = np.real(eig_vals)\n",
    "        iden = np.eye(len(eig_vals))\n",
    "        for i in range(len(eig_vals)):\n",
    "            if abs(eig_vals[i]) < 10e-4:\n",
    "                val = 0\n",
    "            else:\n",
    "                val = np.log2(eig_vals[i]) * eig_vals[i]\n",
    "            iden[i] = -val * iden[i]\n",
    "        return np.real(np.round(trace(np.linalg.inv(eig_vecs.T) @ iden @ eig_vecs.T), 4))\n",
    "\n",
    "von_neumann(density_mat_from_state_vec(normalize_state_vec([1, 0, 0, 1])))"
   ]
  },
  {
   "cell_type": "markdown",
   "metadata": {
    "id": "zCC2LMBbU0xw"
   },
   "source": [
    "# Fidelity"
   ]
  },
  {
   "cell_type": "markdown",
   "metadata": {
    "id": "x2mDueeMm9RL"
   },
   "source": [
    "$$tr({\\sqrt{\\sqrt{\\rho}\\sigma\\sqrt{\\rho}}}^2)$$"
   ]
  },
  {
   "cell_type": "code",
   "execution_count": 34,
   "metadata": {
    "colab": {
     "base_uri": "https://localhost:8080/"
    },
    "id": "xpxofo4iU2QX",
    "outputId": "75c7ea7a-3fe8-4036-e425-c6112db91c2d"
   },
   "outputs": [
    {
     "name": "stdout",
     "output_type": "stream",
     "text": [
      "[[1. 0.]\n",
      " [0. 0.]]\n",
      "[[0.88002038 0.        ]\n",
      " [0.         0.        ]]\n"
     ]
    },
    {
     "data": {
      "text/plain": [
       "0.7744"
      ]
     },
     "execution_count": 34,
     "metadata": {},
     "output_type": "execute_result"
    }
   ],
   "source": [
    "def sqrt_dens_mat(dens_mat):\n",
    "    # if nxn_valid_quantum(dens_mat):\n",
    "    eig_vals, eig_vecs = np.linalg.eig(dens_mat)\n",
    "    eig_vals = np.real(eig_vals)\n",
    "    iden = np.eye(len(eig_vals))\n",
    "    for i in range(len(eig_vals)):\n",
    "        if np.abs(eig_vals[i]) < 10e-4:\n",
    "            val = 0\n",
    "        else:\n",
    "            val = np.sqrt(eig_vals[i])\n",
    "        iden[i] = val * iden[i]\n",
    "    print(iden)\n",
    "    return eig_vecs.T @ iden @ np.linalg.inv(eig_vecs.T)\n",
    "\n",
    "def fidelity(rho1, rho2):\n",
    "    if type(rho1) != np.array:\n",
    "        rho1 = np.array(rho1)\n",
    "    if type(rho2) != np.array:\n",
    "        rho2 = np.array(rho1)\n",
    "    if rho1.shape == rho2.shape:\n",
    "        if nxn_valid_quantum(rho1) and nxn_valid_quantum(rho2):\n",
    "            sqrt_rho1 = sqrt_dens_mat(rho1)\n",
    "            val = sqrt_rho1 @ rho2 @ sqrt_rho1\n",
    "            if np.imag(trace(val)) < 10e-4:\n",
    "                return np.round(np.real((trace(sqrt_dens_mat(val)))**2), 4)\n",
    "    else:\n",
    "        print(f\"Given density matrices are not of same dimension {rho1.shape}, {rho2.shape}\")\n",
    "\n",
    "fidelity(randm_dens(), np.array([[1, 0], [0, 0]]))"
   ]
  },
  {
   "cell_type": "code",
   "execution_count": 35,
   "metadata": {
    "colab": {
     "base_uri": "https://localhost:8080/"
    },
    "id": "5oxbinIgToWt",
    "outputId": "f9991d39-43f1-403a-8405-4141d214ce1b"
   },
   "outputs": [
    {
     "name": "stdout",
     "output_type": "stream",
     "text": [
      "[[1. 0. 0. 0.]\n",
      " [0. 0. 0. 0.]\n",
      " [0. 0. 0. 0.]\n",
      " [0. 0. 0. 0.]]\n"
     ]
    },
    {
     "data": {
      "text/plain": [
       "array([[ 0.5, -0.5,  0. ,  0. ],\n",
       "       [-0.5,  0.5,  0. ,  0. ],\n",
       "       [ 0. ,  0. ,  0. ,  0. ],\n",
       "       [ 0. ,  0. ,  0. ,  0. ]])"
      ]
     },
     "execution_count": 35,
     "metadata": {},
     "output_type": "execute_result"
    }
   ],
   "source": [
    "sqrt_dens_mat(density_mat_from_state_vec(normalize_state_vec([1, 0, 1, 0])))"
   ]
  },
  {
   "cell_type": "code",
   "execution_count": null,
   "metadata": {
    "id": "xHn0yh8mayiF"
   },
   "outputs": [],
   "source": []
  },
  {
   "cell_type": "code",
   "execution_count": 36,
   "metadata": {
    "colab": {
     "base_uri": "https://localhost:8080/"
    },
    "id": "ToZVt655ZuHQ",
    "outputId": "831f9e2f-353c-4f09-c3af-a646c0653103"
   },
   "outputs": [
    {
     "data": {
      "text/plain": [
       "(array([2.+0.j, 0.+0.j]), array([0., 2.]))"
      ]
     },
     "execution_count": 36,
     "metadata": {},
     "output_type": "execute_result"
    }
   ],
   "source": [
    "bnnn = np.array([[1, 1j], [-1j, 1]])\n",
    "np.linalg.eig(bnnn)[0], np.linalg.eigvalsh(bnnn) "
   ]
  },
  {
   "cell_type": "markdown",
   "metadata": {
    "id": "QTud9Ybed_4W"
   },
   "source": [
    "# Trace Distance"
   ]
  },
  {
   "cell_type": "code",
   "execution_count": 37,
   "metadata": {
    "colab": {
     "base_uri": "https://localhost:8080/"
    },
    "id": "-KP5d7RTeCk-",
    "outputId": "9cb9526b-23bf-4834-fe28-823777dc9046"
   },
   "outputs": [
    {
     "name": "stdout",
     "output_type": "stream",
     "text": [
      "[[0.70710678 0.        ]\n",
      " [0.         0.70710678]]\n",
      "CPU times: total: 0 ns\n",
      "Wall time: 0 ns\n"
     ]
    },
    {
     "data": {
      "text/plain": [
       "0.7071067811865476"
      ]
     },
     "execution_count": 37,
     "metadata": {},
     "output_type": "execute_result"
    }
   ],
   "source": [
    "%%time\n",
    "def trace_distance(rho1, rho2):\n",
    "    if type(rho1) != np.array:\n",
    "        rho1 = np.array(rho1)\n",
    "    if type(rho2) != np.array:\n",
    "        rho2 = np.array(rho2)\n",
    "    if nxn_valid_quantum(rho1) and nxn_valid_quantum(rho2):\n",
    "        val = rho1 - rho2\n",
    "        return np.real(trace(sqrt_dens_mat(val @ np.conj(val.T)))) / 2\n",
    "\n",
    "trace_distance([[1, 0], [0, 0]], 0.5 * np.array([[1, -1j], [1j, 1]]))"
   ]
  },
  {
   "cell_type": "code",
   "execution_count": 38,
   "metadata": {
    "id": "k7xs5BQRbh_7"
   },
   "outputs": [],
   "source": [
    "# def dens_mat_from_thetaphi(theta, phi):\n",
    "#     return [[np.cos(theta / 2)**2, np.exp(-1j * phi) * np.sin(theta / 2) * np.cos(theta / 2)], [np.exp(1j * phi) * np.sin(theta / 2) * np.cos(theta / 2), np.sin(theta / 2)**2]]\n",
    "\n",
    "# trc_dist = []\n",
    "\n",
    "# for theta in np.arange(0, np.pi, 0.1):\n",
    "#     for phi in np.arange(0, np.pi * 2, 0.1):\n",
    "#         trc_dist.append(trace_distance(dens_mat_from_thetaphi(0, 0), dens_mat_from_thetaphi(theta, phi)))\n",
    "# plt.imshow(trc_dist.reshape(48, 42))\n",
    "# plt.show()"
   ]
  },
  {
   "cell_type": "markdown",
   "metadata": {
    "id": "UYrqE9JI9FJ6"
   },
   "source": [
    "# Trace Distance in Bloch Sphere"
   ]
  },
  {
   "cell_type": "code",
   "execution_count": 39,
   "metadata": {
    "id": "yuekfgYl9JdJ"
   },
   "outputs": [],
   "source": [
    "b = qt.Bloch()\n"
   ]
  },
  {
   "cell_type": "markdown",
   "metadata": {
    "id": "r3qP8BMK7272"
   },
   "source": [
    "# Concurrence for 2 qubit system"
   ]
  },
  {
   "cell_type": "markdown",
   "metadata": {
    "id": "vFp-2HoRP1aM"
   },
   "source": [
    "$$C(\\rho) = \\sqrt{\\sqrt{\\rho}\\hat{\\rho}\\sqrt{\\rho}}$$\n",
    "where $\\hat{\\rho}$ is:\n",
    "\n",
    "$$\\hat{\\rho} = \\Sigma \\rho^* \\Sigma $$"
   ]
  },
  {
   "cell_type": "code",
   "execution_count": 40,
   "metadata": {
    "colab": {
     "base_uri": "https://localhost:8080/"
    },
    "id": "l4vPf8Pt72qR",
    "outputId": "63786579-3589-4fcd-d6c3-0996c7fde50a"
   },
   "outputs": [
    {
     "data": {
      "text/plain": [
       "0.0"
      ]
     },
     "execution_count": 40,
     "metadata": {},
     "output_type": "execute_result"
    }
   ],
   "source": [
    "# %%time\n",
    "# def concurrence(dens_mat):\n",
    "#     if type(dens_mat) != np.array:\n",
    "#         dens_mat = np.array(dens_mat)\n",
    "#     if nxn_valid_quantum(dens_mat) and dens_mat.shape[0] == 4 and dens_mat.shape[1] == 4:\n",
    "#         eta = np.array([[0, 0, 0, -1], [0, 0, 1, 0], [0, 1, 0, 0], [-1, 0, 0, 0]])\n",
    "#         fin = dens_mat @ eta @ dens_mat.T @ eta \n",
    "#         eig_val_arr = np.linalg.eigvals(fin)\n",
    "#         r_v = sorted(eig_val_arr, reverse = True)\n",
    "#         val = np.sqrt(r_v[0])\n",
    "#         for x in range(1, 4):\n",
    "#             val -= np.sqrt(r_v[x])\n",
    "#         return max(0. , np.real(np.round(val, 4)))\n",
    "\n",
    "def concurrence(dens_mat):\n",
    "    if type(dens_mat) != np.array:\n",
    "        dens_mat = np.array(dens_mat)\n",
    "    if nxn_valid_quantum(dens_mat) and dens_mat.shape[0] == 4 and dens_mat.shape[1] == 4:\n",
    "        eta = np.array([[0, 0, 0, -1], [0, 0, 1, 0], [0, 1, 0, 0], [-1, 0, 0, 0]])\n",
    "        fin = dens_mat @ eta @ dens_mat.T @ eta \n",
    "        eig_val_arr = np.linalg.eigvals(fin)\n",
    "        r_v = sorted(eig_val_arr, reverse = True)\n",
    "        val = np.sqrt(r_v[0])\n",
    "        minimum_eig = r_v[-1]\n",
    "        for x in range(1, 4):\n",
    "            val -= np.sqrt(r_v[x])\n",
    "        return max(0. , np.real(np.round(val, 4)))\n",
    "\n",
    "concurrence(density_mat_from_state_vec(normalize_state_vec([1, 0, -1, 0])))"
   ]
  },
  {
   "cell_type": "markdown",
   "metadata": {
    "id": "J0LBRgcb7L5P"
   },
   "source": [
    "# Entanglement from concurrence"
   ]
  },
  {
   "cell_type": "markdown",
   "metadata": {
    "id": "4Z-IwNyp7PXE"
   },
   "source": [
    "$$E(\\rho) = s\\left( \\dfrac{1+\\sqrt{1-C^2(\\rho)}}{2} \\right)$$\n",
    "\n",
    "$$s(x) = -xlog_2 x- (1-x)log_2(1-x)$$"
   ]
  },
  {
   "cell_type": "code",
   "execution_count": 41,
   "metadata": {
    "colab": {
     "base_uri": "https://localhost:8080/"
    },
    "id": "sZP1qM6E7LX-",
    "outputId": "ca1b094b-3c36-489f-b713-1e34107d18d2"
   },
   "outputs": [
    {
     "ename": "IndexError",
     "evalue": "invalid index to scalar variable.",
     "output_type": "error",
     "traceback": [
      "\u001b[1;31m---------------------------------------------------------------------------\u001b[0m",
      "\u001b[1;31mIndexError\u001b[0m                                Traceback (most recent call last)",
      "Input \u001b[1;32mIn [41]\u001b[0m, in \u001b[0;36m<cell line: 7>\u001b[1;34m()\u001b[0m\n\u001b[0;32m      4\u001b[0m \u001b[38;5;28;01mdef\u001b[39;00m \u001b[38;5;21ment\u001b[39m(dens_mat):\n\u001b[0;32m      5\u001b[0m     \u001b[38;5;28;01mreturn\u001b[39;00m bin_ent((\u001b[38;5;241m1\u001b[39m \u001b[38;5;241m+\u001b[39m np\u001b[38;5;241m.\u001b[39msqrt(\u001b[38;5;241m1\u001b[39m \u001b[38;5;241m-\u001b[39m concurrence(dens_mat)[\u001b[38;5;241m0\u001b[39m]\u001b[38;5;241m*\u001b[39m\u001b[38;5;241m*\u001b[39m\u001b[38;5;241m2\u001b[39m)) \u001b[38;5;241m/\u001b[39m \u001b[38;5;241m2\u001b[39m)\n\u001b[1;32m----> 7\u001b[0m \u001b[43ment\u001b[49m\u001b[43m(\u001b[49m\u001b[43mdensity_mat_from_state_vec\u001b[49m\u001b[43m(\u001b[49m\u001b[43mnormalize_state_vec\u001b[49m\u001b[43m(\u001b[49m\u001b[43m[\u001b[49m\u001b[38;5;241;43m1\u001b[39;49m\u001b[43m,\u001b[49m\u001b[43m \u001b[49m\u001b[38;5;241;43m-\u001b[39;49m\u001b[38;5;241;43m1\u001b[39;49m\u001b[43mj\u001b[49m\u001b[43m,\u001b[49m\u001b[43m \u001b[49m\u001b[38;5;241;43m-\u001b[39;49m\u001b[38;5;241;43m2\u001b[39;49m\u001b[43mj\u001b[49m\u001b[43m,\u001b[49m\u001b[43m \u001b[49m\u001b[38;5;241;43m1\u001b[39;49m\u001b[43m]\u001b[49m\u001b[43m)\u001b[49m\u001b[43m)\u001b[49m\u001b[43m)\u001b[49m\n",
      "Input \u001b[1;32mIn [41]\u001b[0m, in \u001b[0;36ment\u001b[1;34m(dens_mat)\u001b[0m\n\u001b[0;32m      4\u001b[0m \u001b[38;5;28;01mdef\u001b[39;00m \u001b[38;5;21ment\u001b[39m(dens_mat):\n\u001b[1;32m----> 5\u001b[0m     \u001b[38;5;28;01mreturn\u001b[39;00m bin_ent((\u001b[38;5;241m1\u001b[39m \u001b[38;5;241m+\u001b[39m np\u001b[38;5;241m.\u001b[39msqrt(\u001b[38;5;241m1\u001b[39m \u001b[38;5;241m-\u001b[39m \u001b[43mconcurrence\u001b[49m\u001b[43m(\u001b[49m\u001b[43mdens_mat\u001b[49m\u001b[43m)\u001b[49m\u001b[43m[\u001b[49m\u001b[38;5;241;43m0\u001b[39;49m\u001b[43m]\u001b[49m\u001b[38;5;241m*\u001b[39m\u001b[38;5;241m*\u001b[39m\u001b[38;5;241m2\u001b[39m)) \u001b[38;5;241m/\u001b[39m \u001b[38;5;241m2\u001b[39m)\n",
      "\u001b[1;31mIndexError\u001b[0m: invalid index to scalar variable."
     ]
    }
   ],
   "source": [
    "def bin_ent(x):\n",
    "    return -x * np.log2(x) - (1 - x) * np.log2(1 - x)\n",
    "\n",
    "def ent(dens_mat):\n",
    "    return bin_ent((1 + np.sqrt(1 - concurrence(dens_mat)[0]**2)) / 2)\n",
    "\n",
    "ent(density_mat_from_state_vec(normalize_state_vec([1, -1j, -2j, 1])))"
   ]
  },
  {
   "cell_type": "markdown",
   "metadata": {
    "id": "ROKg7NSy9CtT"
   },
   "source": [
    "# Density matrix associated with a stokes vector for 1 qubit and 2 qubit systems"
   ]
  },
  {
   "cell_type": "code",
   "execution_count": null,
   "metadata": {
    "colab": {
     "base_uri": "https://localhost:8080/"
    },
    "id": "l-kUMcjr9Hk2",
    "outputId": "d56660b7-c088-4c5b-c757-02283abb5e24"
   },
   "outputs": [],
   "source": [
    "def dens_mat_from_stokes_vec(vec):\n",
    "    s = [np.eye(2, dtype = 'complex128'), np.array([[0, 1], [1, 0]], dtype = 'complex128'), np.array([[0, -1j], [1j, 0]], dtype = 'complex128'), np.array([[1, 0], [0, -1]], dtype = 'complex128')]\n",
    "    if len(vec) == 4:\n",
    "        b = np.zeros((2, 2))\n",
    "        for i in range(4):\n",
    "            b = b + vec[i] * s[i]\n",
    "        b = b / 2\n",
    "    if len(vec) == 16:\n",
    "        b = np.zeros((4, 4))\n",
    "        for i in range(4):\n",
    "            temp_num = 0\n",
    "            for j in range(4):\n",
    "                b = b + vec[4 * i + j] * np.kron(s[i], s[j])\n",
    "        b = b / 4\n",
    "        c = []\n",
    "        for i in range(4):\n",
    "            for j in range(4):\n",
    "                if np.imag(b[i][j]) == 0:\n",
    "                    c.append(np.real(b[i][j]))\n",
    "                else:\n",
    "                    c.append(b[i][j])\n",
    "    return np.array(c).reshape(4, 4)\n",
    "\n",
    "\n",
    "\n",
    "dens_mat_from_stokes_vec([1, 0, 0, 0, 0, 0, 0, 0, 0, 0, 0, 0, 0, 0, 0, 0])"
   ]
  },
  {
   "cell_type": "code",
   "execution_count": null,
   "metadata": {
    "colab": {
     "base_uri": "https://localhost:8080/"
    },
    "id": "FxUsTpY2DRTh",
    "outputId": "811fd296-e062-4bcb-d804-92ac6201dfb6"
   },
   "outputs": [],
   "source": [
    "c = []\n",
    "for i in range(2000):c.append(2 * np.random.randint(2) - 1)\n",
    "np.mean(c)"
   ]
  },
  {
   "cell_type": "code",
   "execution_count": null,
   "metadata": {
    "colab": {
     "base_uri": "https://localhost:8080/"
    },
    "id": "azd_JNzveu4n",
    "outputId": "af25abf9-83d3-41b7-de0c-9f3bc3970919"
   },
   "outputs": [],
   "source": [
    "cc = [[0.8, 1j], [-1j, 0.2]]\n",
    "cc = np.array(cc)\n",
    "# nxn_valid_quantum(cc)\n",
    "np.sum(complex_conjugate(cc) == cc) == cc.shape[0] * cc.shape[1]"
   ]
  },
  {
   "cell_type": "code",
   "execution_count": null,
   "metadata": {
    "colab": {
     "base_uri": "https://localhost:8080/",
     "height": 612
    },
    "id": "2x2856KfA9QZ",
    "outputId": "d5b2b64c-64c3-4c2f-b5ea-6e1249b69f3b"
   },
   "outputs": [],
   "source": [
    "b_1 = density_mat_from_state_vec(normalize_state_vec([1, 0, 0, 1]))\n",
    "b_2 = density_mat_from_state_vec(normalize_state_vec([1, 0, 0, -1]))\n",
    "b_3 = density_mat_from_state_vec(normalize_state_vec([0, 1, 1, 0]))\n",
    "b_4 = density_mat_from_state_vec(normalize_state_vec([0, 1, -1, 0]))\n",
    "con_mat = []\n",
    "for i in np.arange(0, 0.5, 0.01):\n",
    "    for j in np.arange(0, 0.5, 0.01):\n",
    "        p1 = i\n",
    "        p2 = j\n",
    "        p3 = 0\n",
    "        p4 = 1 - p3 - p2 - p1\n",
    "\n",
    "        dens_mat_con_mix = p1 * b_1 + p2 * b_2 + p3 * b_3 + p4 * b_4\n",
    "        if nxn_valid_quantum(dens_mat_con_mix):\n",
    "            con_mat.append(concurrence(dens_mat_con_mix))\n",
    "plt.figure(figsize = (10, 10))\n",
    "# plt.plot(np.arange(0, 1, 0.01), con_mat)\n",
    "plt.imshow(np.array(con_mat).reshape(50, 50))\n",
    "plt.axis('off')\n",
    "plt.show()"
   ]
  },
  {
   "cell_type": "markdown",
   "metadata": {
    "id": "Zw8kpuvVJJW_"
   },
   "source": [
    "# Qubit Tomography Single"
   ]
  },
  {
   "cell_type": "code",
   "execution_count": null,
   "metadata": {
    "id": "xpziAI8bD8go"
   },
   "outputs": [],
   "source": [
    "def tomography_single_qubit(N_H, N_V, N_D, N_R):\n",
    "    N_t = N_H + N_V\n",
    "    P_H = N_H / N_t\n",
    "    P_V = N_V / N_t\n",
    "    P_D = N_D / N_t\n",
    "    P_R = N_R / N_t\n",
    "    return np.array([[2 * P_H, (2 * P_D - 1) - 1j * (1 - 2 * P_R)], [(2 * P_D - 1) + 1j * (1 - 2 * P_R), 2 * P_V]]) * 0.5\n",
    "\n",
    "# tomography_single_qubit(1000, 0, 500, 500)\n"
   ]
  },
  {
   "cell_type": "markdown",
   "metadata": {
    "id": "2u2jlmcifhkj"
   },
   "source": [
    "$$W = p\\dfrac{I_4}{4} + (1-p) |\\phi_+><\\phi_+|$$"
   ]
  },
  {
   "cell_type": "code",
   "execution_count": null,
   "metadata": {
    "colab": {
     "base_uri": "https://localhost:8080/",
     "height": 283
    },
    "id": "eaOYYR-q3xzd",
    "outputId": "4b07aa47-ff34-4dfe-fce4-68c1c63bb394"
   },
   "outputs": [],
   "source": [
    "wwer = []\n",
    "nwer = []\n",
    "f1 = False\n",
    "for p1 in np.arange(0, 1, 0.001):\n",
    "    bhbh = concurrence((1 - p1) * np.eye(4) / 4 + (p1) * density_mat_from_state_vec(normalize_state_vec([1, 0, 0, 1])))\n",
    "    wwer.append(bhbh)\n",
    "\n",
    "    if bhbh == 0 and f1 == False:\n",
    "        print(bhbh, p1)\n",
    "        f1 = True\n",
    "    prev = bhbh\n",
    "\n",
    "plt.plot(np.arange(0, 1, 0.001), wwer)\n",
    "plt.show()"
   ]
  },
  {
   "cell_type": "code",
   "execution_count": null,
   "metadata": {},
   "outputs": [],
   "source": [
    "\n",
    "    "
   ]
  },
  {
   "cell_type": "markdown",
   "metadata": {
    "id": "GWoq9hbysFRj"
   },
   "source": [
    "# 2 Qubit State Tomography"
   ]
  },
  {
   "cell_type": "code",
   "execution_count": null,
   "metadata": {
    "colab": {
     "base_uri": "https://localhost:8080/"
    },
    "id": "vIf9I_SQ41gx",
    "outputId": "25a807de-3bda-4588-f96c-b078c6777097"
   },
   "outputs": [],
   "source": [
    "bas = ['H', 'V', 'D', 'A', 'L', 'R']\n",
    "sq_bas = []\n",
    "for i in bas:\n",
    "    for j in bas:\n",
    "        sq_bas.append(str(i + j))\n",
    "np.array(sq_bas).reshape(6, 6)"
   ]
  },
  {
   "cell_type": "code",
   "execution_count": null,
   "metadata": {
    "colab": {
     "background_save": true,
     "base_uri": "https://localhost:8080/"
    },
    "id": "Gw54WMrGb-XH",
    "outputId": "5037598a-25c4-4411-876f-b06b558e8460"
   },
   "outputs": [],
   "source": [
    "# %%time\n",
    "def tomography_two_qubit(arr):\n",
    "    s = [np.eye(2, dtype = 'complex128'), np.array([[0, 1], [1, 0]], dtype = 'complex128'), np.array([[0, -1j], [1j, 0]], dtype = 'complex128'), np.array([[1, 0], [0, -1]], dtype = 'complex128')]\n",
    "    N_tot = arr[0] + arr[1] + arr[4] + arr[5]\n",
    "    S = []\n",
    "    arr = np.array(arr) / N_tot\n",
    "    PHH, PHV, PHD, PHL, PVH, PVV, PVD, PVL, PDH, PDV, PDD, PDL, PLH, PLV, PLD, PLL = arr \n",
    "    PHA = PHH + PHV - PHD\n",
    "    PHR = PHH + PHV - PHL\n",
    "    PVA = PVH + PVV - PVD\n",
    "    PVR = PVH + PVV - PVL \n",
    "    PDA = PDH + PDV - PDD\n",
    "    PDR = PDH + PDV - PDL\n",
    "    PAH = PHH + PVH - PDH\n",
    "    PRH = PHH + PVH - PLH\n",
    "    PAV = PHV + PVV - PDV\n",
    "    PRV = PHV + PVV - PLV\n",
    "    PAD = PHD + PVD - PDD\n",
    "    PRD = PHD + PVD - PLD\n",
    "    PLA = PLH + PLV - PLD\n",
    "    PLR = PLH + PLV - PLL\n",
    "    PAL = PHL + PVL - PDL\n",
    "    PRL = PHL + PVL - PLL\n",
    "    PAA = 1 - PDD - PDA - PAD\n",
    "    PAR = PAH + PAV - PAL\n",
    "    PRA = PHA + PVA - PLA\n",
    "    PRR = 1 - PRL - PLR - PLL \n",
    "    S.append(PHH + PHV + PVH + PVV)\n",
    "    #S00 to 03\n",
    "    S.append(PDD - PDA + PAD - PAA)\n",
    "    S.append(PLL - PRL + PLR - PRR)\n",
    "    S.append(PHH - PHV + PVH - PVV)\n",
    "\n",
    "    S.append(PDD + PDA - PAD - PAA) #S10\n",
    "    S.append(PDD - PDA - PAD + PAA) #S11\n",
    "    S.append(PDL - PDR - PAL + PAR) #S12\n",
    "    S.append(PDH - PDV - PAH + PAV) #S13\n",
    "    S.append(PLL - PLR + PRL - PRR) #S20\n",
    "    S.append(PLD - PLA - PRD + PRA) #S21\n",
    "    S.append(PRR - PRL - PLR + PLL) #S22\n",
    "    S.append(PLH - PLV - PRH + PRV) #S23\n",
    "    S.append(PHH + PHV - PVH - PVV) #S30\n",
    "    S.append(PHD - PHA - PVD + PVA) #S31\n",
    "    S.append(PHL - PHR - PVL + PVR) #S32\n",
    "    S.append(PHH - PHV - PVH + PVV) #S33\n",
    "    b = np.zeros((4, 4))\n",
    "    for i in range(4):\n",
    "        temp_num = 0\n",
    "        for j in range(4):\n",
    "            b = b + S[4 * i + j] * np.kron(s[i], s[j])\n",
    "            # if (S[4 * i + j]) > 0.001:\n",
    "            # print(i, j, 4 * i + j)\n",
    "    b = b / 4\n",
    "    return np.round(np.real(b), 3)\n",
    "\n",
    "tomography_two_qubit([333333, 166666, 250000, 250000, 166666, 333333, 250000, 250000, 250000, 250000, 333333, 250000, 250000, 250000, 250000, 166666])\n",
    "# concurrence(tomography_two_qubit([3333, 1666, 2500, 2500, 1666, 3333, 2500, 2500, 2500, 2500, 3333, 2500, 2500, 2500, 2500, 1666]))\n",
    "# nxn_valid_quantum(tomography_two_qubit([333333, 166666, 250000, 250000, 166666, 333333, 250000, 250000, 250000, 250000, 333333, 250000, 250000, 250000, 250000, 166666]))"
   ]
  },
  {
   "cell_type": "code",
   "execution_count": null,
   "metadata": {
    "colab": {
     "base_uri": "https://localhost:8080/"
    },
    "id": "a6S3vBgBHnsx",
    "outputId": "fd7bef0b-cc4b-4d7b-ed0a-7f7e121220cf"
   },
   "outputs": [],
   "source": [
    "s = [np.eye(2, dtype = 'complex128'), np.array([[0, 1], [1, 0]], dtype = 'complex128'), np.array([[0, -1j], [1j, 0]], dtype = 'complex128'), np.array([[1, 0], [0, -1]], dtype = 'complex128')]\n",
    "np.real(np.linalg.eig(np.kron(s[1], s[3]))[1]).T"
   ]
  },
  {
   "cell_type": "code",
   "execution_count": null,
   "metadata": {
    "colab": {
     "base_uri": "https://localhost:8080/"
    },
    "id": "HwwJ2DjfPI_s",
    "outputId": "f7c399b9-ead2-4c0c-f0c7-7d23332c182a"
   },
   "outputs": [],
   "source": [
    "i = 1\n",
    "j = 3\n",
    "np.linalg.eig(np.kron(s[i], s[j]))[0], np.linalg.eig(np.kron(s[i], s[j]))[1].T * np.sqrt(2)"
   ]
  },
  {
   "cell_type": "code",
   "execution_count": null,
   "metadata": {
    "colab": {
     "base_uri": "https://localhost:8080/"
    },
    "id": "Jn08JFuedGT-",
    "outputId": "58cfc482-28ba-4240-8bc3-a8544e18a986"
   },
   "outputs": [],
   "source": [
    "m = ['D', 'A', 'L', 'R', 'H', 'V']\n",
    "# m = ['D', 'L', 'H', 'V']\n",
    "bb = np.empty([6, 6] ,dtype = object)\n",
    "for i in range(len(m)):\n",
    "    for j in range(len(m)):\n",
    "        bb[i][j] = str(m[i] + m[j])\n",
    "# print(bb)\n",
    "bb[:, [2, 3]] = bb[:, [3, 2]]\n",
    "bb[:, [2, 0]] = bb[:, [0, 2]]\n",
    "bb[:, [1, 0]] = bb[:, [0, 1]]\n",
    "bb[[2, 3], :] = bb[[3, 2], :]\n",
    "bb[[2, 0], :] = bb[[0, 2], :]\n",
    "bb[[1, 0], :] = bb[[0, 1], :]\n",
    "# bb[:, [2, 1]] = bb[:, [1, 2]]\n",
    "# bb[:, [0, 1]] = bb[:, [1, 0]]\n",
    "# np.roll(bb, (-3, 0))\n",
    "print(bb)\n",
    "bb[:, [2, 0]] = bb[:, [0, 2]]\n",
    "bb[:, [2, 1]] = bb[:, [1, 2]]\n",
    "# \n",
    "bb[:, [2, 3]] = bb[:, [3, 2]]\n",
    "bb[[2, 0], :] = bb[[0, 2], :]\n",
    "bb[[2, 1], :] = bb[[1, 2], :]\n",
    "\n",
    "bb[[2, 3], :] = bb[[3, 2], :]\n",
    "print(bb)"
   ]
  },
  {
   "cell_type": "code",
   "execution_count": null,
   "metadata": {
    "colab": {
     "base_uri": "https://localhost:8080/"
    },
    "id": "Ntec-nnEZwj0",
    "outputId": "7a3f27ca-d184-4dcb-dfb7-c03931faaf62"
   },
   "outputs": [],
   "source": [
    "# np.set_printoptions(suppress=True,\n",
    "#    formatter={'float_kind':'{:f}'.format})\n",
    "np.set_printoptions(suppress=True)\n",
    "\n",
    "def two_tomo(arr):\n",
    "    s = [np.eye(2, dtype = 'complex128'), np.array([[0, 1], [1, 0]], dtype = 'complex128'), np.array([[0, -1j], [1j, 0]], dtype = 'complex128'), np.array([[1, 0], [0, -1]], dtype = 'complex128')]\n",
    "    n_tot = arr[0] + arr[1] + arr[4] + arr[5]\n",
    "    arr = np.array(arr) / n_tot\n",
    "    PHH, PHV, PHD, PHL, PVH, PVV, PVD, PVL, PDH, PDV, PDD, PDL, PLH, PLV, PLD, PLL = arr\n",
    "\n",
    "    arr_16_sq = np.array([[PDD, PDL, PDH, PDV], [PLD, PLL, PLH, PLV], [PHD, PHL, PHH, PHV], [PVD, PVL, PVH, PVV]])\n",
    "    S_66 = np.zeros((6, 6))\n",
    "    for i in range(len(S_66)):\n",
    "        for j in range(len(S_66)):\n",
    "            if i < 4 and j < 4:\n",
    "                # print(i, j)\n",
    "                S_66[i + 2][j + 2] = arr_16_sq[i][j]\n",
    "    # print(S_66)\n",
    "    for j in range(5, -1, -1):\n",
    "        S_66[1][j] = S_66[j][5] + S_66[4][j] - S_66[3][j]\n",
    "        S_66[0][j] = S_66[j][5] + S_66[4][j] - S_66[2][j]\n",
    "    for i in range(5, -1, -1):\n",
    "        S_66[i][1] = S_66[i][5] + S_66[i][4] - S_66[i][3]\n",
    "        S_66[i][0] = S_66[i][5] + S_66[i][4] - S_66[i][2]\n",
    "    # print(S_66)\n",
    "\n",
    "    S_66[:, [2, 0]] = S_66[:, [0, 2]]\n",
    "    S_66[:, [2, 1]] = S_66[:, [1, 2]]\n",
    "    S_66[:, [2, 3]] = S_66[:, [3, 2]]\n",
    "    S_66[[2, 0], :] = S_66[[0, 2], :]\n",
    "    S_66[[2, 1], :] = S_66[[1, 2], :]\n",
    "    S_66[[2, 3], :] = S_66[[3, 2], :]\n",
    "\n",
    "    print(S_66)\n",
    "    Stokes = np.zeros((16, 1))\n",
    "    Stokes[0][0] = 1\n",
    "    for i in range(4):\n",
    "        for j in range(4):\n",
    "            # if i != \n",
    "            if i != 0 and j != 0:\n",
    "                # print(bb[(i - 1) * 2 : (i - 1) * 2 + 2, (j - 1) * 2: (j - 1) * 2 + 2], i, j, \"next\\n\")\n",
    "                temp_arr = np.array(S_66[(i - 1) * 2 : (i - 1) * 2 + 2, (j - 1) * 2: (j - 1) * 2 + 2]).reshape(1, 4)\n",
    "                Stokes[i * 4 + j] = temp_arr @ np.array([1, -1, -1, 1]).reshape(4, 1)\n",
    "            if i == 0 and j != 0:\n",
    "                # print(bb[(j - 1) * 2 : j * 2, (j - 1) * 2: 2 * j], i, j, \"next1\\n\")\n",
    "                temp_arr = np.array(S_66[(j - 1) * 2 : j * 2, (j - 1) * 2: 2 * j]).reshape(1, 4)\n",
    "                Stokes[i * 4 + j] = temp_arr @ np.array([1, -1, 1, -1]).reshape(4, 1)\n",
    "            if i != 0 and j == 0:\n",
    "                # print(bb[(i - 1) * 2 : i * 2, (i - 1) * 2: 2 * i], i, j, \"next2\\n\")\n",
    "                temp_arr = np.array(S_66[(i - 1) * 2 : i * 2, (i - 1) * 2: 2 * i]).reshape(1, 4)\n",
    "                Stokes[i * 4 + j] = temp_arr @ np.array([1, 1, -1, -1]).reshape(4, 1)\n",
    "    # Stokes = Stokes.reshape(16, 1) \n",
    "    b = np.zeros((4, 4))\n",
    "    for i in range(4):\n",
    "        for j in range(4):\n",
    "            b = b + Stokes[4 * i + j] * np.kron(s[i], s[j])\n",
    "            # print(Stokes[4 * i + j], i, j)\n",
    "    b = b / 4\n",
    "    return np.round(np.real(b), 3)\n",
    "    \n",
    "two_tomo([333333, 166667, 250000, 250000, 166667, 333333, 250000, 250000, 250000, 250000, 333333, 250000, 250000, 250000, 250000, 166667])"
   ]
  },
  {
   "cell_type": "code",
   "execution_count": null,
   "metadata": {},
   "outputs": [],
   "source": [
    "def werner(p):\n",
    "    return (1 - p) * np.eye(4) / 4 + p * density_mat_from_state_vec(normalize_state_vec([1, 0, 0, 1]))\n",
    "nevw = []\n",
    "def negativity(dens_mat):\n",
    "    if nxn_valid_quantum(dens_mat):\n",
    "        transposed_dm = ppt(dens_mat, 2)\n",
    "        eig_huy = np.linalg.eig(transposed_dm)[0]\n",
    "        eig_huy.sort()\n",
    "#         print(eig_huy)\n",
    "#         if eig_huy[0] < 0:\n",
    "        return max(0, -2 * eig_huy[0])\n",
    "    \n",
    "for p in np.arange(0, 1, 0.001):\n",
    "    nevw.append(negativity(werner(p)))\n",
    "#     print(negativity(werner(p)), p)\n",
    "\n",
    "plt.figure(figsize = (10, 5))\n",
    "plt.subplot(1, 2, 1)\n",
    "plt.title(\"Concurrence\")\n",
    "plt.plot(np.arange(0, 1, 0.001), wwer)\n",
    "plt.xlabel(\"p\")\n",
    "plt.subplot(1, 2, 2)\n",
    "plt.title(\"Negativity\")\n",
    "plt.plot(np.arange(0, 1, 0.001), nevw)\n",
    "plt.xlabel(\"p\")\n",
    "plt.show()"
   ]
  },
  {
   "cell_type": "code",
   "execution_count": null,
   "metadata": {},
   "outputs": [],
   "source": [
    "np.linalg.eig(ppt(density_mat_from_state_vec(normalize_state_vec([1, 0, 0, 1])), 0))"
   ]
  },
  {
   "cell_type": "code",
   "execution_count": null,
   "metadata": {},
   "outputs": [],
   "source": [
    "ppt(density_mat_from_state_vec(normalize_state_vec([1, 0, 0, 1])), 1)"
   ]
  },
  {
   "cell_type": "code",
   "execution_count": null,
   "metadata": {},
   "outputs": [],
   "source": [
    "import sqt_diat as sq"
   ]
  },
  {
   "cell_type": "code",
   "execution_count": null,
   "metadata": {},
   "outputs": [],
   "source": [
    "sq.normalize_state_vec([1, 2])"
   ]
  },
  {
   "cell_type": "code",
   "execution_count": null,
   "metadata": {},
   "outputs": [],
   "source": [
    "def f(x):\n",
    "    y = x**2\n",
    "    return y"
   ]
  },
  {
   "cell_type": "code",
   "execution_count": null,
   "metadata": {},
   "outputs": [],
   "source": [
    "f(10)"
   ]
  },
  {
   "cell_type": "code",
   "execution_count": null,
   "metadata": {},
   "outputs": [],
   "source": []
  }
 ],
 "metadata": {
  "colab": {
   "collapsed_sections": [
    "t3sYU47oZGy5"
   ],
   "provenance": []
  },
  "kernelspec": {
   "display_name": "Python 3 (ipykernel)",
   "language": "python",
   "name": "python3"
  },
  "language_info": {
   "codemirror_mode": {
    "name": "ipython",
    "version": 3
   },
   "file_extension": ".py",
   "mimetype": "text/x-python",
   "name": "python",
   "nbconvert_exporter": "python",
   "pygments_lexer": "ipython3",
   "version": "3.10.5"
  }
 },
 "nbformat": 4,
 "nbformat_minor": 1
}
